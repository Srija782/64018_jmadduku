{
  "nbformat": 4,
  "nbformat_minor": 0,
  "metadata": {
    "accelerator": "GPU",
    "colab": {
      "name": "Assignment2_AML_Convnet_v4.0",
      "provenance": [],
      "collapsed_sections": [],
      "machine_shape": "hm",
      "include_colab_link": true
    },
    "kernelspec": {
      "display_name": "Python 3",
      "language": "python",
      "name": "python3"
    },
    "language_info": {
      "codemirror_mode": {
        "name": "ipython",
        "version": 3
      },
      "file_extension": ".py",
      "mimetype": "text/x-python",
      "name": "python",
      "nbconvert_exporter": "python",
      "pygments_lexer": "ipython3",
      "version": "3.7.0"
    }
  },
  "cells": [
    {
      "cell_type": "markdown",
      "metadata": {
        "id": "view-in-github",
        "colab_type": "text"
      },
      "source": [
        "<a href=\"https://colab.research.google.com/github/Janakisrija/64018_jmadduku/blob/main/Assignment_2/Assignment2_AML_Convnet_v4_0.ipynb\" target=\"_parent\"><img src=\"https://colab.research.google.com/assets/colab-badge.svg\" alt=\"Open In Colab\"/></a>"
      ]
    },
    {
      "cell_type": "markdown",
      "metadata": {
        "id": "M_w9GJQWLJf0"
      },
      "source": [
        "##**Assignment 2 - Deep learning for computer vision**"
      ]
    },
    {
      "cell_type": "markdown",
      "metadata": {
        "id": "QutUglegLJf8"
      },
      "source": [
        "### “Deep learning for computer vision,” convents can be used successfully to classify images. Specifically, consider the Cats & Dogs example. There were two broad approaches to classifying Cats & Dogs using convnets: Training a network from scratch, versus using a pretrained convnet. While small datasets can lead to overfitting, thus making training a network for prediction more difficult, you also saw several techniques to reduce overfitting, and these include data augmentation and regularization.\n",
        "### In this assignment, you will examine the relationship between training samples and the choice of training your model from scratch, versus using a pretrained convnet."
      ]
    },
    {
      "cell_type": "markdown",
      "source": [
        "###The training archive contains 25,000 images of dogs and cats. "
      ],
      "metadata": {
        "id": "4f4pPW_py9Kv"
      }
    },
    {
      "cell_type": "markdown",
      "metadata": {
        "id": "iBiW9ZHHLJf9"
      },
      "source": [
        "### Downloading the data"
      ]
    },
    {
      "cell_type": "markdown",
      "source": [
        " Uploading the json file from kaggle to access the data from dogs-vs-cats dataset."
      ],
      "metadata": {
        "id": "9KjTsStQqbNf"
      }
    },
    {
      "cell_type": "code",
      "metadata": {
        "colab": {
          "resources": {
            "http://localhost:8080/nbextensions/google.colab/files.js": {
              "data": "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",
              "ok": true,
              "headers": [
                [
                  "content-type",
                  "application/javascript"
                ]
              ],
              "status": 200,
              "status_text": ""
            }
          },
          "base_uri": "https://localhost:8080/",
          "height": 90
        },
        "id": "viYjmM2HLJf9",
        "outputId": "30464301-e875-4b38-9749-9831997c3638"
      },
      "source": [
        "from google.colab import files\n",
        "files.upload()"
      ],
      "execution_count": 1,
      "outputs": [
        {
          "output_type": "display_data",
          "data": {
            "text/plain": [
              "<IPython.core.display.HTML object>"
            ],
            "text/html": [
              "\n",
              "     <input type=\"file\" id=\"files-6346b2d5-694e-4f77-acdd-340bbfa75283\" name=\"files[]\" multiple disabled\n",
              "        style=\"border:none\" />\n",
              "     <output id=\"result-6346b2d5-694e-4f77-acdd-340bbfa75283\">\n",
              "      Upload widget is only available when the cell has been executed in the\n",
              "      current browser session. Please rerun this cell to enable.\n",
              "      </output>\n",
              "      <script src=\"/nbextensions/google.colab/files.js\"></script> "
            ]
          },
          "metadata": {}
        },
        {
          "output_type": "stream",
          "name": "stdout",
          "text": [
            "Saving kaggle.json to kaggle.json\n"
          ]
        },
        {
          "output_type": "execute_result",
          "data": {
            "text/plain": [
              "{'kaggle.json': b'{\"username\":\"srijasreeshti\",\"key\":\"5d42f89bd6b8bb174e57573a57907558\"}'}"
            ]
          },
          "metadata": {},
          "execution_count": 1
        }
      ]
    },
    {
      "cell_type": "code",
      "metadata": {
        "id": "bnd8M_zRLJf9"
      },
      "source": [
        "!mkdir ~/.kaggle\n",
        "!cp kaggle.json ~/.kaggle/\n",
        "!chmod 600 ~/.kaggle/kaggle.json"
      ],
      "execution_count": 2,
      "outputs": []
    },
    {
      "cell_type": "code",
      "metadata": {
        "colab": {
          "base_uri": "https://localhost:8080/"
        },
        "id": "606RcoSyLJf-",
        "outputId": "c2ae19e0-441e-4095-b962-80f74ef876ff"
      },
      "source": [
        "!kaggle competitions download -c dogs-vs-cats"
      ],
      "execution_count": 3,
      "outputs": [
        {
          "output_type": "stream",
          "name": "stdout",
          "text": [
            "Downloading dogs-vs-cats.zip to /content\n",
            " 99% 806M/812M [00:24<00:00, 50.2MB/s]\n",
            "100% 812M/812M [00:25<00:00, 33.4MB/s]\n"
          ]
        }
      ]
    },
    {
      "cell_type": "code",
      "source": [
        "!unzip -qq dogs-vs-cats"
      ],
      "metadata": {
        "id": "e48fCioYlPU6"
      },
      "execution_count": 4,
      "outputs": []
    },
    {
      "cell_type": "code",
      "metadata": {
        "id": "y8UWwdXcMOcE"
      },
      "source": [
        "!unzip -qq test1.zip"
      ],
      "execution_count": 5,
      "outputs": []
    },
    {
      "cell_type": "code",
      "metadata": {
        "id": "ABcoW4YHHkgU"
      },
      "source": [
        "!unzip -qq train.zip"
      ],
      "execution_count": 6,
      "outputs": []
    },
    {
      "cell_type": "code",
      "metadata": {
        "id": "YlOppXz1J48i"
      },
      "source": [
        "#shutil.rmtree(\"./cats_vs_dogs_small\", ignore_errors=True)\n",
        "#shutil.rmtree(\"./test1\", ignore_errors=True)\n",
        "#shutil.rmtree(\"./train\", ignore_errors=True)\n"
      ],
      "execution_count": 7,
      "outputs": []
    },
    {
      "cell_type": "markdown",
      "metadata": {
        "id": "y_d0PlVSTP3P"
      },
      "source": [
        "## Q1. Consider the Cats & Dogs example. Start initially with a training sample of 1000, a validation sample of 500, and a test sample of 500 (like in the text). Use any technique to reduce overfitting and improve performance in developing a network that you train from scratch. What performance did you achieve?\n",
        "\n",
        "\n",
        "### Here the training sample is of 1000 images\n",
        "#### Test Accuracy - 70.1%\n",
        "\n",
        "#### Training Accuraccy - 99.3%\n",
        "\n",
        "#### Validation Accuracy - 75.6%"
      ]
    },
    {
      "cell_type": "markdown",
      "metadata": {
        "id": "cTtWpwnPz7b5"
      },
      "source": [
        "**Copying images to training, validation, and test directories**"
      ]
    },
    {
      "cell_type": "code",
      "metadata": {
        "id": "mkM9Kg1uLJf-"
      },
      "source": [
        "import os, shutil, pathlib\n",
        "\n",
        "original_dir = pathlib.Path(\"train\")\n",
        "new_base_dir = pathlib.Path(\"cats_vs_dogs_small\")\n",
        "\n",
        "def make_subset(subset_name, start_index, end_index):\n",
        "    for category in (\"cat\", \"dog\"):\n",
        "        dir = new_base_dir / subset_name / category\n",
        "        os.makedirs(dir)\n",
        "        fnames = [f\"{category}.{i}.jpg\" for i in range(start_index, end_index)]\n",
        "        for fname in fnames:\n",
        "            shutil.copyfile(src=original_dir / fname,\n",
        "                            dst=dir / fname)\n",
        "#Creating training, Test and validation sets.\n",
        "#Training has 1000 samples, test has 500 samples and validation has 500 samples.\n",
        "make_subset(\"train\", start_index=0, end_index=1000)\n",
        "make_subset(\"validation\", start_index=1000, end_index=1500)\n",
        "make_subset(\"test\", start_index=1500, end_index=2000)"
      ],
      "execution_count": 8,
      "outputs": []
    },
    {
      "cell_type": "markdown",
      "metadata": {
        "id": "A0Kl-Y9HuD5-"
      },
      "source": [
        "##Data Preprocessing\n",
        "####Converting the data into Preprocessed flaoting point tensors before being fed into the model.\n",
        "####Since the data is in the JPEG file format,here are the steps of  preprocessing:\n",
        "####1.Read the pictures\n",
        "####2.Convert JPEG content into RGB grid of pixels\n",
        "####3. Convert RGB grid of pixels into floating point tensors\n",
        "####4. Resize them\n",
        "####5. Make them into batches"
      ]
    },
    {
      "cell_type": "markdown",
      "metadata": {
        "id": "z4fboVketrcu"
      },
      "source": [
        "**Using `image_dataset_from_directory` to read images**"
      ]
    },
    {
      "cell_type": "code",
      "metadata": {
        "colab": {
          "base_uri": "https://localhost:8080/"
        },
        "id": "n2KO6Tz_LJgA",
        "outputId": "392eda54-6d63-4aa5-afa7-74479dfb5e31"
      },
      "source": [
        "from tensorflow.keras.utils import image_dataset_from_directory\n",
        "\n",
        "train_dataset = image_dataset_from_directory(\n",
        "    new_base_dir / \"train\",\n",
        "    image_size=(180, 180),\n",
        "    batch_size=32)\n",
        "validation_dataset = image_dataset_from_directory(\n",
        "    new_base_dir / \"validation\",\n",
        "    image_size=(180, 180),\n",
        "    batch_size=32)\n",
        "test_dataset = image_dataset_from_directory(\n",
        "    new_base_dir / \"test\",\n",
        "    image_size=(180, 180),\n",
        "    batch_size=32)"
      ],
      "execution_count": 9,
      "outputs": [
        {
          "output_type": "stream",
          "name": "stdout",
          "text": [
            "Found 2000 files belonging to 2 classes.\n",
            "Found 1000 files belonging to 2 classes.\n",
            "Found 1000 files belonging to 2 classes.\n"
          ]
        }
      ]
    },
    {
      "cell_type": "markdown",
      "metadata": {
        "id": "u1ofxMIFp-nL"
      },
      "source": [
        "Create a datset instance from NumPy array of random numbers of 1000 samples and each sample of vector size 16"
      ]
    },
    {
      "cell_type": "code",
      "metadata": {
        "id": "q-OvV49ALJgB"
      },
      "source": [
        "import numpy as np\n",
        "import tensorflow as tf\n",
        "random_numbers = np.random.normal(size=(1000, 16))\n",
        "dataset = tf.data.Dataset.from_tensor_slices(random_numbers)"
      ],
      "execution_count": 10,
      "outputs": []
    },
    {
      "cell_type": "code",
      "metadata": {
        "colab": {
          "base_uri": "https://localhost:8080/"
        },
        "id": "J2VciHhWLJgB",
        "outputId": "45afced5-7624-428f-cbbd-3d304c42731d"
      },
      "source": [
        "for i, element in enumerate(dataset):\n",
        "    print(element.shape)\n",
        "    if i >= 2:\n",
        "        break"
      ],
      "execution_count": 11,
      "outputs": [
        {
          "output_type": "stream",
          "name": "stdout",
          "text": [
            "(16,)\n",
            "(16,)\n",
            "(16,)\n"
          ]
        }
      ]
    },
    {
      "cell_type": "markdown",
      "metadata": {
        "id": "ltmtIkKxq4sf"
      },
      "source": [
        "Batching the data into batches of size 32"
      ]
    },
    {
      "cell_type": "code",
      "metadata": {
        "colab": {
          "base_uri": "https://localhost:8080/"
        },
        "id": "2HaIetuiLJgB",
        "outputId": "2bea684d-3ebb-477d-d0be-c0d65d1c6bf9"
      },
      "source": [
        "batched_dataset = dataset.batch(32)\n",
        "for i, element in enumerate(batched_dataset):\n",
        "    print(element.shape)\n",
        "    if i >= 2:\n",
        "        break"
      ],
      "execution_count": 12,
      "outputs": [
        {
          "output_type": "stream",
          "name": "stdout",
          "text": [
            "(32, 16)\n",
            "(32, 16)\n",
            "(32, 16)\n"
          ]
        }
      ]
    },
    {
      "cell_type": "code",
      "metadata": {
        "colab": {
          "base_uri": "https://localhost:8080/"
        },
        "id": "Aqh5SrMXLJgB",
        "outputId": "41eb4021-92f2-4d48-c470-f8b99462b9b8"
      },
      "source": [
        "reshaped_dataset = dataset.map(lambda x: tf.reshape(x, (4, 4)))\n",
        "for i, element in enumerate(reshaped_dataset):\n",
        "    print(element.shape)\n",
        "    if i >= 2:\n",
        "        break"
      ],
      "execution_count": 13,
      "outputs": [
        {
          "output_type": "stream",
          "name": "stdout",
          "text": [
            "(4, 4)\n",
            "(4, 4)\n",
            "(4, 4)\n"
          ]
        }
      ]
    },
    {
      "cell_type": "markdown",
      "metadata": {
        "id": "7nj0WdosLJgC"
      },
      "source": [
        "**Displaying the shapes of the data and labels yielded by the `Dataset`**"
      ]
    },
    {
      "cell_type": "code",
      "metadata": {
        "colab": {
          "base_uri": "https://localhost:8080/"
        },
        "id": "YLVTY3F6LJgC",
        "outputId": "41c571ff-d06d-43e9-d777-f569c768cb8d"
      },
      "source": [
        "for data_batch, labels_batch in train_dataset:\n",
        "    print(\"data batch shape:\", data_batch.shape)\n",
        "    print(\"labels batch shape:\", labels_batch.shape)\n",
        "    break"
      ],
      "execution_count": 14,
      "outputs": [
        {
          "output_type": "stream",
          "name": "stdout",
          "text": [
            "data batch shape: (32, 180, 180, 3)\n",
            "labels batch shape: (32,)\n"
          ]
        }
      ]
    },
    {
      "cell_type": "markdown",
      "metadata": {
        "id": "P1hLVDnpLJf-"
      },
      "source": [
        "##Building the model"
      ]
    },
    {
      "cell_type": "markdown",
      "metadata": {
        "id": "9XAsrO-rtzd-"
      },
      "source": [
        "**Instantiating a small convnet for dogs vs. cats classification**\n"
      ]
    },
    {
      "cell_type": "code",
      "metadata": {
        "id": "beY7fF_KLJf_"
      },
      "source": [
        "from tensorflow import keras\n",
        "from tensorflow.keras import layers\n",
        "\n",
        "inputs = keras.Input(shape=(180, 180, 3))\n",
        "x = layers.Rescaling(1./255)(inputs)\n",
        "x = layers.Conv2D(filters=32, kernel_size=3, activation=\"relu\")(x)\n",
        "x = layers.MaxPooling2D(pool_size=2)(x)\n",
        "x = layers.Conv2D(filters=64, kernel_size=3, activation=\"relu\")(x)\n",
        "x = layers.MaxPooling2D(pool_size=2)(x)\n",
        "x = layers.Conv2D(filters=128, kernel_size=3, activation=\"relu\")(x)\n",
        "x = layers.MaxPooling2D(pool_size=2)(x)\n",
        "x = layers.Conv2D(filters=256, kernel_size=3, activation=\"relu\")(x)\n",
        "x = layers.MaxPooling2D(pool_size=2)(x)\n",
        "x = layers.Conv2D(filters=256, kernel_size=3, activation=\"relu\")(x)\n",
        "x = layers.Flatten()(x)\n",
        "x = layers.Dropout(0.5)(x)\n",
        "outputs = layers.Dense(1, activation=\"sigmoid\")(x)\n",
        "model = keras.Model(inputs=inputs, outputs=outputs)"
      ],
      "execution_count": 15,
      "outputs": []
    },
    {
      "cell_type": "markdown",
      "metadata": {
        "id": "UkzEJ5iuLJgA"
      },
      "source": [
        "**Configuring the model for training**"
      ]
    },
    {
      "cell_type": "code",
      "metadata": {
        "id": "1Ytsm5F8LJgA"
      },
      "source": [
        "model.compile(loss=\"binary_crossentropy\",\n",
        "              optimizer=\"adam\",\n",
        "              metrics=[\"accuracy\"])"
      ],
      "execution_count": 16,
      "outputs": []
    },
    {
      "cell_type": "code",
      "metadata": {
        "colab": {
          "base_uri": "https://localhost:8080/"
        },
        "id": "orpQgeVVLJf_",
        "outputId": "6e438e18-fff3-46b6-abb7-36b3dce9e330"
      },
      "source": [
        "model.summary()"
      ],
      "execution_count": 17,
      "outputs": [
        {
          "output_type": "stream",
          "name": "stdout",
          "text": [
            "Model: \"model\"\n",
            "_________________________________________________________________\n",
            " Layer (type)                Output Shape              Param #   \n",
            "=================================================================\n",
            " input_1 (InputLayer)        [(None, 180, 180, 3)]     0         \n",
            "                                                                 \n",
            " rescaling (Rescaling)       (None, 180, 180, 3)       0         \n",
            "                                                                 \n",
            " conv2d (Conv2D)             (None, 178, 178, 32)      896       \n",
            "                                                                 \n",
            " max_pooling2d (MaxPooling2D  (None, 89, 89, 32)       0         \n",
            " )                                                               \n",
            "                                                                 \n",
            " conv2d_1 (Conv2D)           (None, 87, 87, 64)        18496     \n",
            "                                                                 \n",
            " max_pooling2d_1 (MaxPooling  (None, 43, 43, 64)       0         \n",
            " 2D)                                                             \n",
            "                                                                 \n",
            " conv2d_2 (Conv2D)           (None, 41, 41, 128)       73856     \n",
            "                                                                 \n",
            " max_pooling2d_2 (MaxPooling  (None, 20, 20, 128)      0         \n",
            " 2D)                                                             \n",
            "                                                                 \n",
            " conv2d_3 (Conv2D)           (None, 18, 18, 256)       295168    \n",
            "                                                                 \n",
            " max_pooling2d_3 (MaxPooling  (None, 9, 9, 256)        0         \n",
            " 2D)                                                             \n",
            "                                                                 \n",
            " conv2d_4 (Conv2D)           (None, 7, 7, 256)         590080    \n",
            "                                                                 \n",
            " flatten (Flatten)           (None, 12544)             0         \n",
            "                                                                 \n",
            " dropout (Dropout)           (None, 12544)             0         \n",
            "                                                                 \n",
            " dense (Dense)               (None, 1)                 12545     \n",
            "                                                                 \n",
            "=================================================================\n",
            "Total params: 991,041\n",
            "Trainable params: 991,041\n",
            "Non-trainable params: 0\n",
            "_________________________________________________________________\n"
          ]
        }
      ]
    },
    {
      "cell_type": "markdown",
      "metadata": {
        "id": "KDMhNkahLJgC"
      },
      "source": [
        "**Fitting the model using a `Dataset`**"
      ]
    },
    {
      "cell_type": "code",
      "metadata": {
        "colab": {
          "base_uri": "https://localhost:8080/"
        },
        "id": "3_Us5bFxLJgC",
        "outputId": "5d033441-2578-4b02-8403-96e38715022b"
      },
      "source": [
        "from keras.callbacks import ModelCheckpoint, EarlyStopping\n",
        "\n",
        "callbacks = [\n",
        "    keras.callbacks.ModelCheckpoint(\n",
        "        filepath=\"convnet_from_scratch.keras\",\n",
        "        save_best_only=True,\n",
        "        monitor=\"val_loss\")\n",
        "]\n",
        "history = model.fit(\n",
        "    train_dataset,\n",
        "    epochs=30,\n",
        "    validation_data=validation_dataset,\n",
        "    callbacks=callbacks)"
      ],
      "execution_count": 18,
      "outputs": [
        {
          "output_type": "stream",
          "name": "stdout",
          "text": [
            "Epoch 1/30\n",
            "63/63 [==============================] - 21s 122ms/step - loss: 0.6951 - accuracy: 0.5155 - val_loss: 0.6903 - val_accuracy: 0.5060\n",
            "Epoch 2/30\n",
            "63/63 [==============================] - 7s 109ms/step - loss: 0.6882 - accuracy: 0.5440 - val_loss: 0.6736 - val_accuracy: 0.5980\n",
            "Epoch 3/30\n",
            "63/63 [==============================] - 7s 109ms/step - loss: 0.6767 - accuracy: 0.5710 - val_loss: 0.6614 - val_accuracy: 0.5990\n",
            "Epoch 4/30\n",
            "63/63 [==============================] - 7s 108ms/step - loss: 0.6552 - accuracy: 0.5980 - val_loss: 0.6239 - val_accuracy: 0.6520\n",
            "Epoch 5/30\n",
            "63/63 [==============================] - 8s 129ms/step - loss: 0.6146 - accuracy: 0.6705 - val_loss: 0.6220 - val_accuracy: 0.6500\n",
            "Epoch 6/30\n",
            "63/63 [==============================] - 7s 111ms/step - loss: 0.5951 - accuracy: 0.6820 - val_loss: 0.5824 - val_accuracy: 0.7010\n",
            "Epoch 7/30\n",
            "63/63 [==============================] - 7s 109ms/step - loss: 0.5613 - accuracy: 0.7075 - val_loss: 0.5752 - val_accuracy: 0.7150\n",
            "Epoch 8/30\n",
            "63/63 [==============================] - 8s 117ms/step - loss: 0.5263 - accuracy: 0.7410 - val_loss: 0.5516 - val_accuracy: 0.7170\n",
            "Epoch 9/30\n",
            "63/63 [==============================] - 7s 109ms/step - loss: 0.4706 - accuracy: 0.7690 - val_loss: 0.5388 - val_accuracy: 0.7420\n",
            "Epoch 10/30\n",
            "63/63 [==============================] - 7s 108ms/step - loss: 0.4536 - accuracy: 0.7860 - val_loss: 0.5768 - val_accuracy: 0.7230\n",
            "Epoch 11/30\n",
            "63/63 [==============================] - 7s 109ms/step - loss: 0.3967 - accuracy: 0.8170 - val_loss: 0.5879 - val_accuracy: 0.7170\n",
            "Epoch 12/30\n",
            "63/63 [==============================] - 7s 108ms/step - loss: 0.3557 - accuracy: 0.8340 - val_loss: 0.6109 - val_accuracy: 0.7240\n",
            "Epoch 13/30\n",
            "63/63 [==============================] - 7s 109ms/step - loss: 0.3028 - accuracy: 0.8610 - val_loss: 0.6988 - val_accuracy: 0.7290\n",
            "Epoch 14/30\n",
            "63/63 [==============================] - 7s 108ms/step - loss: 0.2330 - accuracy: 0.9040 - val_loss: 0.7759 - val_accuracy: 0.7390\n",
            "Epoch 15/30\n",
            "63/63 [==============================] - 7s 109ms/step - loss: 0.2179 - accuracy: 0.9095 - val_loss: 0.7879 - val_accuracy: 0.7230\n",
            "Epoch 16/30\n",
            "63/63 [==============================] - 7s 109ms/step - loss: 0.1579 - accuracy: 0.9365 - val_loss: 0.9006 - val_accuracy: 0.7280\n",
            "Epoch 17/30\n",
            "63/63 [==============================] - 7s 109ms/step - loss: 0.1302 - accuracy: 0.9535 - val_loss: 0.9951 - val_accuracy: 0.7060\n",
            "Epoch 18/30\n",
            "63/63 [==============================] - 7s 109ms/step - loss: 0.1168 - accuracy: 0.9570 - val_loss: 1.0395 - val_accuracy: 0.7420\n",
            "Epoch 19/30\n",
            "63/63 [==============================] - 7s 109ms/step - loss: 0.0709 - accuracy: 0.9770 - val_loss: 1.1205 - val_accuracy: 0.7330\n",
            "Epoch 20/30\n",
            "63/63 [==============================] - 7s 109ms/step - loss: 0.0760 - accuracy: 0.9675 - val_loss: 1.2285 - val_accuracy: 0.7180\n",
            "Epoch 21/30\n",
            "63/63 [==============================] - 7s 110ms/step - loss: 0.0783 - accuracy: 0.9690 - val_loss: 1.1801 - val_accuracy: 0.7080\n",
            "Epoch 22/30\n",
            "63/63 [==============================] - 7s 108ms/step - loss: 0.0757 - accuracy: 0.9725 - val_loss: 1.1281 - val_accuracy: 0.7210\n",
            "Epoch 23/30\n",
            "63/63 [==============================] - 7s 110ms/step - loss: 0.0438 - accuracy: 0.9850 - val_loss: 1.2103 - val_accuracy: 0.7200\n",
            "Epoch 24/30\n",
            "63/63 [==============================] - 7s 108ms/step - loss: 0.0526 - accuracy: 0.9800 - val_loss: 1.5209 - val_accuracy: 0.7150\n",
            "Epoch 25/30\n",
            "63/63 [==============================] - 7s 108ms/step - loss: 0.0716 - accuracy: 0.9750 - val_loss: 1.1258 - val_accuracy: 0.7450\n",
            "Epoch 26/30\n",
            "63/63 [==============================] - 7s 110ms/step - loss: 0.0409 - accuracy: 0.9835 - val_loss: 1.3356 - val_accuracy: 0.7410\n",
            "Epoch 27/30\n",
            "63/63 [==============================] - 7s 109ms/step - loss: 0.0262 - accuracy: 0.9885 - val_loss: 1.3578 - val_accuracy: 0.7270\n",
            "Epoch 28/30\n",
            "63/63 [==============================] - 7s 109ms/step - loss: 0.0412 - accuracy: 0.9865 - val_loss: 1.2165 - val_accuracy: 0.7410\n",
            "Epoch 29/30\n",
            "63/63 [==============================] - 7s 109ms/step - loss: 0.0236 - accuracy: 0.9930 - val_loss: 1.2871 - val_accuracy: 0.7560\n",
            "Epoch 30/30\n",
            "63/63 [==============================] - 7s 110ms/step - loss: 0.0182 - accuracy: 0.9960 - val_loss: 1.4616 - val_accuracy: 0.7520\n"
          ]
        }
      ]
    },
    {
      "cell_type": "markdown",
      "metadata": {
        "id": "wFh51DoALJgC"
      },
      "source": [
        "**Displaying curves of loss and accuracy during training**"
      ]
    },
    {
      "cell_type": "code",
      "metadata": {
        "colab": {
          "base_uri": "https://localhost:8080/",
          "height": 1000
        },
        "id": "k4Iv3jPhLJgC",
        "outputId": "f3bab6f4-a3c5-4f02-cfb6-a625ea3b271a"
      },
      "source": [
        "\n",
        "import matplotlib.pyplot as plt\n",
        "\n",
        "plt.figure(figsize=(10, 10))\n",
        "accuracy = history.history[\"accuracy\"]\n",
        "val_accuracy = history.history[\"val_accuracy\"]\n",
        "loss = history.history[\"loss\"]\n",
        "val_loss = history.history[\"val_loss\"]\n",
        "epochs = range(1, len(accuracy) + 1)\n",
        "plt.plot(epochs, accuracy, \"bo\", label=\"Training accuracy\")\n",
        "plt.plot(epochs, val_accuracy, \"b\", label=\"Validation accuracy\")\n",
        "plt.title(\"Training and validation accuracy\")\n",
        "plt.legend()\n",
        "plt.figure()\n",
        "plt.figure(figsize=(10, 10))\n",
        "plt.plot(epochs, loss, \"bo\", label=\"Training loss\")\n",
        "plt.plot(epochs, val_loss, \"b\", label=\"Validation loss\")\n",
        "plt.title(\"Training and validation loss\")\n",
        "plt.legend()\n",
        "plt.show()"
      ],
      "execution_count": 19,
      "outputs": [
        {
          "output_type": "display_data",
          "data": {
            "text/plain": [
              "<Figure size 720x720 with 1 Axes>"
            ],
            "image/png": "[encoded data removed]"
          },
          "metadata": {
            "needs_background": "light"
          }
        },
        {
          "output_type": "display_data",
          "data": {
            "text/plain": [
              "<Figure size 432x288 with 0 Axes>"
            ]
          },
          "metadata": {}
        },
        {
          "output_type": "display_data",
          "data": {
            "text/plain": [
              "<Figure size 720x720 with 1 Axes>"
            ],
            "image/png": "[encoded data removed]"
          },
          "metadata": {
            "needs_background": "light"
          }
        }
      ]
    },
    {
      "cell_type": "markdown",
      "metadata": {
        "id": "IxhZlNRjLJgD"
      },
      "source": [
        "**Evaluating the model on the test set**"
      ]
    },
    {
      "cell_type": "code",
      "metadata": {
        "colab": {
          "base_uri": "https://localhost:8080/"
        },
        "id": "rnkCdcr2LJgD",
        "outputId": "ad82f84c-9aed-4226-b158-9c6a155ae5ec"
      },
      "source": [
        "test_model = keras.models.load_model(\"convnet_from_scratch.keras\")\n",
        "test_loss, test_acc = test_model.evaluate(test_dataset)\n",
        "print(f\"Test accuracy: {test_acc:.3f}\")"
      ],
      "execution_count": 20,
      "outputs": [
        {
          "output_type": "stream",
          "name": "stdout",
          "text": [
            "32/32 [==============================] - 2s 44ms/step - loss: 0.5958 - accuracy: 0.7010\n",
            "Test accuracy: 0.701\n"
          ]
        }
      ]
    },
    {
      "cell_type": "markdown",
      "metadata": {
        "id": "JYJ0Y_Jtcy7O"
      },
      "source": [
        "# Q2.  Increase your training sample size. You may pick any amount. Keep the validation and test samples the same as above. Optimize your network (again training from scratch). What performance did you achieve?"
      ]
    },
    {
      "cell_type": "markdown",
      "metadata": {
        "id": "a-M774A19ZOx"
      },
      "source": [
        "#### Test Accuracy - 81.1%\n",
        "\n",
        "#### Training Accuraccy - 89.05%\n",
        "\n",
        "#### Validation Accuracy - 82.6% \n"
      ]
    },
    {
      "cell_type": "markdown",
      "metadata": {
        "id": "go8Th_HDLJgD"
      },
      "source": [
        "**Define a data augmentation stage to add to an image model**"
      ]
    },
    {
      "cell_type": "code",
      "metadata": {
        "id": "Ecz_riV30EGy"
      },
      "source": [
        "import os, shutil, pathlib\n",
        "\n",
        "shutil.rmtree(\"./cats_vs_dogs_small_Q2\", ignore_errors=True)\n",
        "\n",
        "original_dir = pathlib.Path(\"train\")\n",
        "new_base_dir = pathlib.Path(\"cats_vs_dogs_small_Q2\")\n",
        "\n",
        "def make_subset(subset_name, start_index, end_index):\n",
        "    for category in (\"cat\", \"dog\"):\n",
        "        dir = new_base_dir / subset_name / category\n",
        "        os.makedirs(dir)\n",
        "        fnames = [f\"{category}.{i}.jpg\" for i in range(start_index, end_index)]\n",
        "        for fname in fnames:\n",
        "            shutil.copyfile(src=original_dir / fname,\n",
        "                            dst=dir / fname)\n",
        "#Creating training, Test and validation sets.\n",
        "#Training has 1500 samples, test has 500 samples and validation has 500 samples.\n",
        "make_subset(\"train\", start_index=0, end_index=1500)\n",
        "make_subset(\"validation\", start_index=1500, end_index=2000)\n",
        "make_subset(\"test\", start_index=2000, end_index=2500)"
      ],
      "execution_count": 21,
      "outputs": []
    },
    {
      "cell_type": "code",
      "metadata": {
        "id": "RopcC5mFLJgE"
      },
      "source": [
        "data_augmentation = keras.Sequential(\n",
        "    [\n",
        "        layers.RandomFlip(\"horizontal\"),\n",
        "        layers.RandomRotation(0.1),\n",
        "        layers.RandomZoom(0.2),\n",
        "    ]\n",
        ")"
      ],
      "execution_count": 22,
      "outputs": []
    },
    {
      "cell_type": "markdown",
      "metadata": {
        "id": "cRpQ-P8eLJgE"
      },
      "source": [
        "**Displaying some randomly augmented training images**"
      ]
    },
    {
      "cell_type": "code",
      "metadata": {
        "colab": {
          "base_uri": "https://localhost:8080/",
          "height": 575
        },
        "id": "w4fdl64zLJgE",
        "outputId": "3d75cddf-3a80-47ec-c548-272a5f89f7a1"
      },
      "source": [
        "plt.figure(figsize=(10, 10))\n",
        "for images, _ in train_dataset.take(1):\n",
        "    for i in range(9):\n",
        "        augmented_images = data_augmentation(images)\n",
        "        ax = plt.subplot(3, 3, i + 1)\n",
        "        plt.imshow(augmented_images[0].numpy().astype(\"uint8\"))\n",
        "        plt.axis(\"off\")"
      ],
      "execution_count": 23,
      "outputs": [
        {
          "output_type": "display_data",
          "data": {
            "text/plain": [
              "<Figure size 720x720 with 9 Axes>"
            ],
            "image/png": "[encoded data removed]"
          },
          "metadata": {
            "needs_background": "light"
          }
        }
      ]
    },
    {
      "cell_type": "markdown",
      "metadata": {
        "id": "mtaPOa7ILJgE"
      },
      "source": [
        "**Defining a new convnet that includes image augmentation and dropout**"
      ]
    },
    {
      "cell_type": "code",
      "metadata": {
        "id": "zziUmvoPLJgE"
      },
      "source": [
        "inputs = keras.Input(shape=(180, 180, 3))\n",
        "x = data_augmentation(inputs)\n",
        "x = layers.Rescaling(1./255)(x)\n",
        "x = layers.Conv2D(filters=32, kernel_size=3, activation=\"relu\")(x)\n",
        "x = layers.MaxPooling2D(pool_size=2)(x)\n",
        "x = layers.Conv2D(filters=64, kernel_size=3, activation=\"relu\")(x)\n",
        "x = layers.MaxPooling2D(pool_size=2)(x)\n",
        "x = layers.Conv2D(filters=128, kernel_size=3, activation=\"relu\")(x)\n",
        "x = layers.MaxPooling2D(pool_size=2)(x)\n",
        "x = layers.Conv2D(filters=256, kernel_size=3, activation=\"relu\")(x)\n",
        "x = layers.MaxPooling2D(pool_size=2)(x)\n",
        "x = layers.Conv2D(filters=256, kernel_size=3, activation=\"relu\")(x)\n",
        "x = layers.Flatten()(x)\n",
        "x = layers.Dropout(0.5)(x)\n",
        "outputs = layers.Dense(1, activation=\"sigmoid\")(x)\n",
        "model = keras.Model(inputs=inputs, outputs=outputs)\n",
        "\n",
        "model.compile(loss=\"binary_crossentropy\",\n",
        "              optimizer=\"adam\",\n",
        "              metrics=[\"accuracy\"])"
      ],
      "execution_count": 24,
      "outputs": []
    },
    {
      "cell_type": "markdown",
      "metadata": {
        "id": "8cneVnr6LJgF"
      },
      "source": [
        "**Training the regularized convnet**"
      ]
    },
    {
      "cell_type": "code",
      "metadata": {
        "colab": {
          "base_uri": "https://localhost:8080/"
        },
        "id": "cc6rLTqeLJgF",
        "outputId": "c91ea17d-a2f7-4046-ef80-8555c031a5ce"
      },
      "source": [
        "callbacks = [\n",
        "    keras.callbacks.ModelCheckpoint(\n",
        "        filepath=\"convnet_from_scratch_with_augmentation.keras\",\n",
        "        save_best_only=True,\n",
        "        monitor=\"val_loss\")\n",
        "]\n",
        "history = model.fit(\n",
        "    train_dataset,\n",
        "    epochs=50,\n",
        "    validation_data=validation_dataset,\n",
        "    callbacks=callbacks)"
      ],
      "execution_count": 25,
      "outputs": [
        {
          "output_type": "stream",
          "name": "stdout",
          "text": [
            "Epoch 1/50\n",
            "63/63 [==============================] - 9s 116ms/step - loss: 0.6953 - accuracy: 0.5035 - val_loss: 0.6934 - val_accuracy: 0.5000\n",
            "Epoch 2/50\n",
            "63/63 [==============================] - 8s 115ms/step - loss: 0.6933 - accuracy: 0.5105 - val_loss: 0.6900 - val_accuracy: 0.5810\n",
            "Epoch 3/50\n",
            "63/63 [==============================] - 7s 114ms/step - loss: 0.6897 - accuracy: 0.5665 - val_loss: 0.6910 - val_accuracy: 0.5270\n",
            "Epoch 4/50\n",
            "63/63 [==============================] - 8s 116ms/step - loss: 0.6715 - accuracy: 0.5855 - val_loss: 0.6695 - val_accuracy: 0.5930\n",
            "Epoch 5/50\n",
            "63/63 [==============================] - 8s 116ms/step - loss: 0.6581 - accuracy: 0.6255 - val_loss: 0.7011 - val_accuracy: 0.5630\n",
            "Epoch 6/50\n",
            "63/63 [==============================] - 8s 116ms/step - loss: 0.6562 - accuracy: 0.6060 - val_loss: 0.6609 - val_accuracy: 0.5850\n",
            "Epoch 7/50\n",
            "63/63 [==============================] - 7s 114ms/step - loss: 0.6485 - accuracy: 0.6250 - val_loss: 0.6679 - val_accuracy: 0.5800\n",
            "Epoch 8/50\n",
            "63/63 [==============================] - 8s 116ms/step - loss: 0.6315 - accuracy: 0.6580 - val_loss: 0.6472 - val_accuracy: 0.6380\n",
            "Epoch 9/50\n",
            "63/63 [==============================] - 8s 116ms/step - loss: 0.6109 - accuracy: 0.6820 - val_loss: 0.5981 - val_accuracy: 0.6720\n",
            "Epoch 10/50\n",
            "63/63 [==============================] - 8s 115ms/step - loss: 0.5995 - accuracy: 0.6765 - val_loss: 0.6315 - val_accuracy: 0.6350\n",
            "Epoch 11/50\n",
            "63/63 [==============================] - 8s 116ms/step - loss: 0.5992 - accuracy: 0.6715 - val_loss: 0.5856 - val_accuracy: 0.6880\n",
            "Epoch 12/50\n",
            "63/63 [==============================] - 7s 114ms/step - loss: 0.5885 - accuracy: 0.6775 - val_loss: 0.5712 - val_accuracy: 0.6940\n",
            "Epoch 13/50\n",
            "63/63 [==============================] - 7s 114ms/step - loss: 0.5733 - accuracy: 0.6875 - val_loss: 0.5717 - val_accuracy: 0.6940\n",
            "Epoch 14/50\n",
            "63/63 [==============================] - 7s 113ms/step - loss: 0.5606 - accuracy: 0.7030 - val_loss: 0.6022 - val_accuracy: 0.6550\n",
            "Epoch 15/50\n",
            "63/63 [==============================] - 7s 114ms/step - loss: 0.5494 - accuracy: 0.7175 - val_loss: 0.5400 - val_accuracy: 0.7200\n",
            "Epoch 16/50\n",
            "63/63 [==============================] - 7s 114ms/step - loss: 0.5370 - accuracy: 0.7325 - val_loss: 0.5607 - val_accuracy: 0.7210\n",
            "Epoch 17/50\n",
            "63/63 [==============================] - 7s 114ms/step - loss: 0.5381 - accuracy: 0.7400 - val_loss: 0.4856 - val_accuracy: 0.7630\n",
            "Epoch 18/50\n",
            "63/63 [==============================] - 7s 114ms/step - loss: 0.5287 - accuracy: 0.7360 - val_loss: 0.5169 - val_accuracy: 0.7410\n",
            "Epoch 19/50\n",
            "63/63 [==============================] - 7s 113ms/step - loss: 0.5002 - accuracy: 0.7530 - val_loss: 0.5264 - val_accuracy: 0.7220\n",
            "Epoch 20/50\n",
            "63/63 [==============================] - 8s 115ms/step - loss: 0.4907 - accuracy: 0.7500 - val_loss: 0.4609 - val_accuracy: 0.7810\n",
            "Epoch 21/50\n",
            "63/63 [==============================] - 7s 113ms/step - loss: 0.4778 - accuracy: 0.7750 - val_loss: 0.5456 - val_accuracy: 0.7350\n",
            "Epoch 22/50\n",
            "63/63 [==============================] - 8s 114ms/step - loss: 0.4841 - accuracy: 0.7750 - val_loss: 0.5504 - val_accuracy: 0.7070\n",
            "Epoch 23/50\n",
            "63/63 [==============================] - 7s 114ms/step - loss: 0.4687 - accuracy: 0.7785 - val_loss: 0.4788 - val_accuracy: 0.7780\n",
            "Epoch 24/50\n",
            "63/63 [==============================] - 8s 115ms/step - loss: 0.4666 - accuracy: 0.7755 - val_loss: 0.4428 - val_accuracy: 0.8080\n",
            "Epoch 25/50\n",
            "63/63 [==============================] - 7s 114ms/step - loss: 0.4425 - accuracy: 0.7840 - val_loss: 0.4615 - val_accuracy: 0.7820\n",
            "Epoch 26/50\n",
            "63/63 [==============================] - 7s 113ms/step - loss: 0.4195 - accuracy: 0.8005 - val_loss: 0.4900 - val_accuracy: 0.7870\n",
            "Epoch 27/50\n",
            "63/63 [==============================] - 7s 114ms/step - loss: 0.4516 - accuracy: 0.7940 - val_loss: 0.4548 - val_accuracy: 0.7900\n",
            "Epoch 28/50\n",
            "63/63 [==============================] - 8s 115ms/step - loss: 0.4395 - accuracy: 0.8015 - val_loss: 0.5353 - val_accuracy: 0.7300\n",
            "Epoch 29/50\n",
            "63/63 [==============================] - 7s 113ms/step - loss: 0.4119 - accuracy: 0.8135 - val_loss: 0.4777 - val_accuracy: 0.7720\n",
            "Epoch 30/50\n",
            "63/63 [==============================] - 7s 114ms/step - loss: 0.4083 - accuracy: 0.8110 - val_loss: 0.4549 - val_accuracy: 0.7860\n",
            "Epoch 31/50\n",
            "63/63 [==============================] - 7s 114ms/step - loss: 0.3909 - accuracy: 0.8165 - val_loss: 0.4528 - val_accuracy: 0.7810\n",
            "Epoch 32/50\n",
            "63/63 [==============================] - 8s 115ms/step - loss: 0.3768 - accuracy: 0.8290 - val_loss: 0.4190 - val_accuracy: 0.7940\n",
            "Epoch 33/50\n",
            "63/63 [==============================] - 7s 113ms/step - loss: 0.3866 - accuracy: 0.8135 - val_loss: 0.4236 - val_accuracy: 0.8090\n",
            "Epoch 34/50\n",
            "63/63 [==============================] - 7s 113ms/step - loss: 0.3952 - accuracy: 0.8210 - val_loss: 0.4385 - val_accuracy: 0.8100\n",
            "Epoch 35/50\n",
            "63/63 [==============================] - 7s 114ms/step - loss: 0.3658 - accuracy: 0.8385 - val_loss: 0.4414 - val_accuracy: 0.7910\n",
            "Epoch 36/50\n",
            "63/63 [==============================] - 8s 116ms/step - loss: 0.3489 - accuracy: 0.8430 - val_loss: 0.4307 - val_accuracy: 0.8010\n",
            "Epoch 37/50\n",
            "63/63 [==============================] - 7s 113ms/step - loss: 0.3448 - accuracy: 0.8490 - val_loss: 0.4524 - val_accuracy: 0.8010\n",
            "Epoch 38/50\n",
            "63/63 [==============================] - 7s 114ms/step - loss: 0.3419 - accuracy: 0.8505 - val_loss: 0.5142 - val_accuracy: 0.7640\n",
            "Epoch 39/50\n",
            "63/63 [==============================] - 7s 114ms/step - loss: 0.3398 - accuracy: 0.8525 - val_loss: 0.4072 - val_accuracy: 0.8190\n",
            "Epoch 40/50\n",
            "63/63 [==============================] - 7s 114ms/step - loss: 0.3152 - accuracy: 0.8600 - val_loss: 0.4722 - val_accuracy: 0.7750\n",
            "Epoch 41/50\n",
            "63/63 [==============================] - 7s 113ms/step - loss: 0.3221 - accuracy: 0.8630 - val_loss: 0.4256 - val_accuracy: 0.8090\n",
            "Epoch 42/50\n",
            "63/63 [==============================] - 7s 113ms/step - loss: 0.3337 - accuracy: 0.8580 - val_loss: 0.4645 - val_accuracy: 0.7900\n",
            "Epoch 43/50\n",
            "63/63 [==============================] - 7s 114ms/step - loss: 0.2857 - accuracy: 0.8800 - val_loss: 0.4461 - val_accuracy: 0.8020\n",
            "Epoch 44/50\n",
            "63/63 [==============================] - 7s 114ms/step - loss: 0.2753 - accuracy: 0.8845 - val_loss: 0.4147 - val_accuracy: 0.8350\n",
            "Epoch 45/50\n",
            "63/63 [==============================] - 7s 114ms/step - loss: 0.2978 - accuracy: 0.8770 - val_loss: 0.4087 - val_accuracy: 0.8360\n",
            "Epoch 46/50\n",
            "63/63 [==============================] - 8s 114ms/step - loss: 0.2740 - accuracy: 0.8800 - val_loss: 0.4398 - val_accuracy: 0.8230\n",
            "Epoch 47/50\n",
            "63/63 [==============================] - 8s 114ms/step - loss: 0.2605 - accuracy: 0.8875 - val_loss: 0.4666 - val_accuracy: 0.8160\n",
            "Epoch 48/50\n",
            "63/63 [==============================] - 7s 114ms/step - loss: 0.2665 - accuracy: 0.8900 - val_loss: 0.4505 - val_accuracy: 0.8290\n",
            "Epoch 49/50\n",
            "63/63 [==============================] - 7s 114ms/step - loss: 0.2659 - accuracy: 0.8910 - val_loss: 0.4802 - val_accuracy: 0.8040\n",
            "Epoch 50/50\n",
            "63/63 [==============================] - 7s 114ms/step - loss: 0.2562 - accuracy: 0.8905 - val_loss: 0.4524 - val_accuracy: 0.8260\n"
          ]
        }
      ]
    },
    {
      "cell_type": "markdown",
      "metadata": {
        "id": "K7R_41A7LJgF"
      },
      "source": [
        "**Evaluating the model on the test set**"
      ]
    },
    {
      "cell_type": "code",
      "metadata": {
        "colab": {
          "base_uri": "https://localhost:8080/"
        },
        "id": "LWMgTFPOLJgF",
        "outputId": "38016dc9-be20-446a-b78a-109b78a3f390"
      },
      "source": [
        "test_model = keras.models.load_model(\n",
        "    \"convnet_from_scratch_with_augmentation.keras\")\n",
        "test_loss, test_acc = test_model.evaluate(test_dataset)\n",
        "print(f\"Test accuracy: {test_acc:.3f}\")"
      ],
      "execution_count": 26,
      "outputs": [
        {
          "output_type": "stream",
          "name": "stdout",
          "text": [
            "32/32 [==============================] - 2s 43ms/step - loss: 0.4360 - accuracy: 0.8110\n",
            "Test accuracy: 0.811\n"
          ]
        }
      ]
    },
    {
      "cell_type": "markdown",
      "metadata": {
        "id": "ZBTatsuzYBsL"
      },
      "source": [
        "# Q3. Now change your training sample so that you achieve better performance than those from Steps 1 and 2. This sample size may be larger, or smaller than those in the previous steps. The objective is to find the ideal training sample size to get best prediction results.\n",
        "\n",
        "\n"
      ]
    },
    {
      "cell_type": "markdown",
      "metadata": {
        "id": "1JTDXQOn8ndK"
      },
      "source": [
        "#### Test Accuracy - 73.9%\n",
        "\n",
        "#### Training Accuraccy - 77.5%\n",
        "\n",
        "#### Validation Accuracy - 78.1%\n",
        "\n",
        "#### In this step 3, I used 2000 training samples with validation and test sets with 500 samples. I noticed that the test accuracy is better when the training sample is 1500 images than 1000 and 2000 training samples. \n",
        "### Training accuracy is better when there are 1000 training samples."
      ]
    },
    {
      "cell_type": "markdown",
      "metadata": {
        "id": "RCwHLictwLGl"
      },
      "source": [
        "### Increasing the training sample to 2000, keeping the Validation and test sets the same as before which is 500 samples."
      ]
    },
    {
      "cell_type": "code",
      "metadata": {
        "id": "WNwoFRIWwzCa"
      },
      "source": [
        "original_dir = pathlib.Path(\"train\")\n",
        "new_base_dir = pathlib.Path(\"cats_vs_dogs_small_Q3\")\n",
        "\n",
        "def make_subset(subset_name, start_index, end_index):\n",
        "    for category in (\"cat\", \"dog\"):\n",
        "        dir = new_base_dir / subset_name / category\n",
        "        os.makedirs(dir)\n",
        "        fnames = [f\"{category}.{i}.jpg\" for i in range(start_index, end_index)]\n",
        "        for fname in fnames:\n",
        "            shutil.copyfile(src=original_dir / fname,\n",
        "                            dst=dir / fname)\n",
        "#Creating training, Test and validation sets.\n",
        "#Training has 2000 samples, test has 500 samples and validation has 500 samples.\n",
        "make_subset(\"train\", start_index=0, end_index=2000)\n",
        "make_subset(\"validation\", start_index=2000, end_index=2500)\n",
        "make_subset(\"test\", start_index=2500, end_index=3000)"
      ],
      "execution_count": 27,
      "outputs": []
    },
    {
      "cell_type": "markdown",
      "metadata": {
        "id": "q4Dy_A0exWqN"
      },
      "source": [
        "**Defining a new convnet with increased training samples,image augmentation and dropout**"
      ]
    },
    {
      "cell_type": "code",
      "metadata": {
        "id": "2HIQ8cHQxWOF"
      },
      "source": [
        "inputs = keras.Input(shape=(180, 180, 3))\n",
        "x = data_augmentation(inputs)\n",
        "x = layers.Rescaling(1./255)(x)\n",
        "x = layers.Conv2D(filters=32, kernel_size=3, activation=\"relu\")(x)\n",
        "x = layers.MaxPooling2D(pool_size=2)(x)\n",
        "x = layers.Conv2D(filters=64, kernel_size=3, activation=\"relu\")(x)\n",
        "x = layers.MaxPooling2D(pool_size=2)(x)\n",
        "x = layers.Conv2D(filters=128, kernel_size=3, activation=\"relu\")(x)\n",
        "x = layers.MaxPooling2D(pool_size=2)(x)\n",
        "x = layers.Conv2D(filters=256, kernel_size=3, activation=\"relu\")(x)\n",
        "x = layers.MaxPooling2D(pool_size=2)(x)\n",
        "x = layers.Conv2D(filters=256, kernel_size=3, activation=\"relu\")(x)\n",
        "x = layers.Flatten()(x)\n",
        "x = layers.Dropout(0.5)(x)\n",
        "outputs = layers.Dense(1, activation=\"sigmoid\")(x)\n",
        "model = keras.Model(inputs=inputs, outputs=outputs)\n",
        "\n",
        "model.compile(loss=\"binary_crossentropy\",\n",
        "              optimizer=\"adam\",\n",
        "              metrics=[\"accuracy\"])"
      ],
      "execution_count": 28,
      "outputs": []
    },
    {
      "cell_type": "code",
      "metadata": {
        "colab": {
          "base_uri": "https://localhost:8080/"
        },
        "id": "TC3vdZWhQLu3",
        "outputId": "0f224695-7bc8-44ee-828a-72704cfa5ab2"
      },
      "source": [
        "callbacks = [\n",
        "    keras.callbacks.ModelCheckpoint(\n",
        "        filepath=\"convnet_from_scratch_with_augmentation1.keras\",\n",
        "        save_best_only=True,\n",
        "        monitor=\"val_loss\")\n",
        "]\n",
        "history = model.fit(\n",
        "    train_dataset,\n",
        "    epochs=50,\n",
        "    validation_data=validation_dataset,\n",
        "    callbacks=callbacks)"
      ],
      "execution_count": 29,
      "outputs": [
        {
          "output_type": "stream",
          "name": "stdout",
          "text": [
            "Epoch 1/50\n",
            "63/63 [==============================] - 9s 116ms/step - loss: 0.6958 - accuracy: 0.5020 - val_loss: 0.6923 - val_accuracy: 0.5000\n",
            "Epoch 2/50\n",
            "63/63 [==============================] - 7s 114ms/step - loss: 0.6934 - accuracy: 0.4845 - val_loss: 0.6930 - val_accuracy: 0.5420\n",
            "Epoch 3/50\n",
            "63/63 [==============================] - 7s 114ms/step - loss: 0.6936 - accuracy: 0.5090 - val_loss: 0.6938 - val_accuracy: 0.5000\n",
            "Epoch 4/50\n",
            "63/63 [==============================] - 8s 115ms/step - loss: 0.6928 - accuracy: 0.5115 - val_loss: 0.6875 - val_accuracy: 0.5000\n",
            "Epoch 5/50\n",
            "63/63 [==============================] - 7s 113ms/step - loss: 0.6933 - accuracy: 0.5115 - val_loss: 0.6890 - val_accuracy: 0.5580\n",
            "Epoch 6/50\n",
            "63/63 [==============================] - 7s 113ms/step - loss: 0.6941 - accuracy: 0.5035 - val_loss: 0.6924 - val_accuracy: 0.5180\n",
            "Epoch 7/50\n",
            "63/63 [==============================] - 7s 114ms/step - loss: 0.6935 - accuracy: 0.4915 - val_loss: 0.6932 - val_accuracy: 0.5010\n",
            "Epoch 8/50\n",
            "63/63 [==============================] - 7s 113ms/step - loss: 0.6944 - accuracy: 0.5005 - val_loss: 0.6930 - val_accuracy: 0.5440\n",
            "Epoch 9/50\n",
            "63/63 [==============================] - 7s 113ms/step - loss: 0.6918 - accuracy: 0.5190 - val_loss: 0.6946 - val_accuracy: 0.5000\n",
            "Epoch 10/50\n",
            "63/63 [==============================] - 7s 113ms/step - loss: 0.6944 - accuracy: 0.5055 - val_loss: 0.6931 - val_accuracy: 0.5010\n",
            "Epoch 11/50\n",
            "63/63 [==============================] - 7s 113ms/step - loss: 0.6923 - accuracy: 0.4985 - val_loss: 0.6914 - val_accuracy: 0.5000\n",
            "Epoch 12/50\n",
            "63/63 [==============================] - 7s 112ms/step - loss: 0.6933 - accuracy: 0.5060 - val_loss: 0.6952 - val_accuracy: 0.4960\n",
            "Epoch 13/50\n",
            "63/63 [==============================] - 7s 113ms/step - loss: 0.6945 - accuracy: 0.5065 - val_loss: 0.6930 - val_accuracy: 0.5200\n",
            "Epoch 14/50\n",
            "63/63 [==============================] - 7s 112ms/step - loss: 0.6967 - accuracy: 0.5115 - val_loss: 0.6932 - val_accuracy: 0.5000\n",
            "Epoch 15/50\n",
            "63/63 [==============================] - 7s 113ms/step - loss: 0.6933 - accuracy: 0.4925 - val_loss: 0.6931 - val_accuracy: 0.5000\n",
            "Epoch 16/50\n",
            "63/63 [==============================] - 8s 128ms/step - loss: 0.6931 - accuracy: 0.5050 - val_loss: 0.6925 - val_accuracy: 0.5190\n",
            "Epoch 17/50\n",
            "63/63 [==============================] - 7s 113ms/step - loss: 0.6913 - accuracy: 0.5260 - val_loss: 0.6909 - val_accuracy: 0.5240\n",
            "Epoch 18/50\n",
            "63/63 [==============================] - 7s 113ms/step - loss: 0.6903 - accuracy: 0.5260 - val_loss: 0.6931 - val_accuracy: 0.5080\n",
            "Epoch 19/50\n",
            "63/63 [==============================] - 7s 113ms/step - loss: 0.6923 - accuracy: 0.5305 - val_loss: 0.6919 - val_accuracy: 0.5170\n",
            "Epoch 20/50\n",
            "63/63 [==============================] - 7s 114ms/step - loss: 0.6902 - accuracy: 0.5195 - val_loss: 0.6817 - val_accuracy: 0.5670\n",
            "Epoch 21/50\n",
            "63/63 [==============================] - 7s 113ms/step - loss: 0.6899 - accuracy: 0.5305 - val_loss: 0.6886 - val_accuracy: 0.5350\n",
            "Epoch 22/50\n",
            "63/63 [==============================] - 7s 112ms/step - loss: 0.6886 - accuracy: 0.5380 - val_loss: 0.6912 - val_accuracy: 0.5240\n",
            "Epoch 23/50\n",
            "63/63 [==============================] - 7s 113ms/step - loss: 0.6893 - accuracy: 0.5295 - val_loss: 0.6887 - val_accuracy: 0.5270\n",
            "Epoch 24/50\n",
            "63/63 [==============================] - 7s 114ms/step - loss: 0.6847 - accuracy: 0.5475 - val_loss: 0.6761 - val_accuracy: 0.5740\n",
            "Epoch 25/50\n",
            "63/63 [==============================] - 10s 149ms/step - loss: 0.6869 - accuracy: 0.5505 - val_loss: 0.6750 - val_accuracy: 0.5880\n",
            "Epoch 26/50\n",
            "63/63 [==============================] - 8s 119ms/step - loss: 0.6855 - accuracy: 0.5470 - val_loss: 0.6730 - val_accuracy: 0.5870\n",
            "Epoch 27/50\n",
            "63/63 [==============================] - 7s 113ms/step - loss: 0.6857 - accuracy: 0.5530 - val_loss: 0.6765 - val_accuracy: 0.5520\n",
            "Epoch 28/50\n",
            "63/63 [==============================] - 8s 116ms/step - loss: 0.6709 - accuracy: 0.5850 - val_loss: 0.6700 - val_accuracy: 0.5860\n",
            "Epoch 29/50\n",
            "63/63 [==============================] - 7s 114ms/step - loss: 0.6650 - accuracy: 0.5890 - val_loss: 0.7059 - val_accuracy: 0.5510\n",
            "Epoch 30/50\n",
            "63/63 [==============================] - 7s 113ms/step - loss: 0.6566 - accuracy: 0.6305 - val_loss: 0.6953 - val_accuracy: 0.6000\n",
            "Epoch 31/50\n",
            "63/63 [==============================] - 7s 114ms/step - loss: 0.6619 - accuracy: 0.6115 - val_loss: 0.6558 - val_accuracy: 0.6260\n",
            "Epoch 32/50\n",
            "63/63 [==============================] - 7s 112ms/step - loss: 0.6541 - accuracy: 0.6315 - val_loss: 0.6654 - val_accuracy: 0.6010\n",
            "Epoch 33/50\n",
            "63/63 [==============================] - 7s 114ms/step - loss: 0.6227 - accuracy: 0.6555 - val_loss: 0.6980 - val_accuracy: 0.5980\n",
            "Epoch 34/50\n",
            "63/63 [==============================] - 7s 113ms/step - loss: 0.6212 - accuracy: 0.6595 - val_loss: 0.6617 - val_accuracy: 0.6150\n",
            "Epoch 35/50\n",
            "63/63 [==============================] - 7s 114ms/step - loss: 0.6070 - accuracy: 0.6720 - val_loss: 0.5993 - val_accuracy: 0.6980\n",
            "Epoch 36/50\n",
            "63/63 [==============================] - 7s 114ms/step - loss: 0.5918 - accuracy: 0.6915 - val_loss: 0.6078 - val_accuracy: 0.6870\n",
            "Epoch 37/50\n",
            "63/63 [==============================] - 7s 114ms/step - loss: 0.5885 - accuracy: 0.7050 - val_loss: 0.5921 - val_accuracy: 0.7070\n",
            "Epoch 38/50\n",
            "63/63 [==============================] - 8s 115ms/step - loss: 0.5791 - accuracy: 0.7080 - val_loss: 0.5919 - val_accuracy: 0.6860\n",
            "Epoch 39/50\n",
            "63/63 [==============================] - 7s 114ms/step - loss: 0.5806 - accuracy: 0.7060 - val_loss: 0.5565 - val_accuracy: 0.7320\n",
            "Epoch 40/50\n",
            "63/63 [==============================] - 7s 114ms/step - loss: 0.5599 - accuracy: 0.7160 - val_loss: 0.5551 - val_accuracy: 0.7200\n",
            "Epoch 41/50\n",
            "63/63 [==============================] - 7s 113ms/step - loss: 0.5425 - accuracy: 0.7240 - val_loss: 0.5569 - val_accuracy: 0.7340\n",
            "Epoch 42/50\n",
            "63/63 [==============================] - 7s 114ms/step - loss: 0.5462 - accuracy: 0.7260 - val_loss: 0.5841 - val_accuracy: 0.7030\n",
            "Epoch 43/50\n",
            "63/63 [==============================] - 8s 115ms/step - loss: 0.5206 - accuracy: 0.7465 - val_loss: 0.5082 - val_accuracy: 0.7600\n",
            "Epoch 44/50\n",
            "63/63 [==============================] - 8s 115ms/step - loss: 0.5067 - accuracy: 0.7470 - val_loss: 0.5611 - val_accuracy: 0.7100\n",
            "Epoch 45/50\n",
            "63/63 [==============================] - 7s 113ms/step - loss: 0.5056 - accuracy: 0.7515 - val_loss: 0.5273 - val_accuracy: 0.7420\n",
            "Epoch 46/50\n",
            "63/63 [==============================] - 8s 114ms/step - loss: 0.4983 - accuracy: 0.7640 - val_loss: 0.5014 - val_accuracy: 0.7570\n",
            "Epoch 47/50\n",
            "63/63 [==============================] - 7s 114ms/step - loss: 0.5062 - accuracy: 0.7495 - val_loss: 0.5256 - val_accuracy: 0.7460\n",
            "Epoch 48/50\n",
            "63/63 [==============================] - 7s 113ms/step - loss: 0.4885 - accuracy: 0.7610 - val_loss: 0.5051 - val_accuracy: 0.7520\n",
            "Epoch 49/50\n",
            "63/63 [==============================] - 8s 116ms/step - loss: 0.4860 - accuracy: 0.7645 - val_loss: 0.4894 - val_accuracy: 0.7670\n",
            "Epoch 50/50\n",
            "63/63 [==============================] - 8s 114ms/step - loss: 0.4796 - accuracy: 0.7750 - val_loss: 0.4838 - val_accuracy: 0.7810\n"
          ]
        }
      ]
    },
    {
      "cell_type": "code",
      "metadata": {
        "colab": {
          "base_uri": "https://localhost:8080/"
        },
        "id": "dl-PYvrHR2GC",
        "outputId": "3a05989d-3efc-409b-abb3-ab3f3a74fd51"
      },
      "source": [
        "test_model = keras.models.load_model(\n",
        "    \"convnet_from_scratch_with_augmentation1.keras\")\n",
        "test_loss, test_acc = test_model.evaluate(test_dataset)\n",
        "print(f\"Test accuracy: {test_acc:.3f}\")"
      ],
      "execution_count": 30,
      "outputs": [
        {
          "output_type": "stream",
          "name": "stdout",
          "text": [
            "32/32 [==============================] - 2s 44ms/step - loss: 0.5283 - accuracy: 0.7390\n",
            "Test accuracy: 0.739\n"
          ]
        }
      ]
    },
    {
      "cell_type": "markdown",
      "metadata": {
        "id": "iLu-7fNMCykm"
      },
      "source": [
        "# Summary for Q1, Q2 and Q3\n",
        "\n",
        "---\n",
        "\n",
        "\n",
        "\n",
        "### I started by training a small convnet on the 1,000 training samples, without any optimization to set a baseline which got us a classification accuracy in the vicinity of 70%. The main issue that was identified was overfitting. \n",
        "\n",
        "###Then I introduced data augmentation and other optimization techniques like earlystopping(which determines the optimal number of epochs), Regularization and Dropout. By using data augmentation, we improved the model to reach an accuracy of 80%.\n",
        "\n",
        "###Then I tried to find the optimal training sample to increase classification accuracy.\n",
        "\n",
        "###It was observed by the manipulation of the training sample and usage of other optimization techniques that the best ways prevent overfitting are as follows\n",
        "### 1. **Getting more training samples** - Increasing the training sample is not always possible. One way of optimally using the less training samples is Data Augmentation.\n",
        "### 2. **Reducing the capacity of the network** - It was observed that reducing the size of the model i.e the number of learnable parameters in the model which is essentially the  number of layers  and the number of units in layers, considerably prevents overfitting\n",
        "### 3. **Adding weight regularization** - Putting constraint on the complexity of a network by forcing the weights  to take only small values, which helps in regularizing the distribution of the weight values which in turns helps in preventing or minimizing overfitting\n",
        "### 4. **Adding dropout** - Zeroing out a number of output features of the layer during training, helps in minimizing overfitting as well. The dropout rate is the fraction of the features that are zeroed out.\n",
        "\n",
        "\n",
        "---\n",
        "\n",
        "\n"
      ]
    },
    {
      "cell_type": "markdown",
      "metadata": {
        "id": "LrPR3elMLJgF"
      },
      "source": [
        "##Q4. Repeat Steps 1-3, but now using a pretrained network. The sample sizes you use in Steps 2 and 3 for the pretrained network may be the same or different from those using the network where you trained from scratch. Again, use any and all optimization techniques to get best performance."
      ]
    },
    {
      "cell_type": "markdown",
      "metadata": {
        "id": "Mwki7ouMMs11"
      },
      "source": [
        "#### Using a pretrained model to apply deep learning to tiny image datasets is a highly effective method. A pretrained model is one that has been trained earlier on a big dataset, usually for a large-scale image classification problem.\n",
        "\n",
        "#### We'll utilize a huge convnet trained on the ImageNet dataset in this scenario (1.4 million labeled images and 1,000 different classes). We'll utilize the VGG16 architecture, although there are a variety of other designs to choose from, including VGG, ResNet, Inception, Xception, and so on.\n",
        "\n",
        "#### Many other image-classification models (all pretrained on the ImageNet dataset) are available as part of keras.applications:\n",
        "#### 1. Xception\n",
        "#### 2. ResNet\n",
        "#### 3. MobileNet\n",
        "#### 4. EfficientNet\n",
        "#### 5. DenseNet etc.\n"
      ]
    },
    {
      "cell_type": "markdown",
      "metadata": {
        "id": "j69jWRr_LJgF"
      },
      "source": [
        "### Feature extraction with a pretrained model\n",
        "\n",
        "#### Feature extraction is the process of extracting important features from new samples using the representations acquired by a previously trained model (in our instance, ImageNet). These characteristics are then fed into a new classifier that has been trained from the ground up."
      ]
    },
    {
      "cell_type": "markdown",
      "metadata": {
        "id": "zz2pq2ajLJgG"
      },
      "source": [
        "**Instantiating the VGG16 convolutional base**"
      ]
    },
    {
      "cell_type": "code",
      "metadata": {
        "id": "skbTdg2GLJgG",
        "colab": {
          "base_uri": "https://localhost:8080/"
        },
        "outputId": "3cec06fb-b014-4c23-edc6-c4bb83025af6"
      },
      "source": [
        "conv_base = keras.applications.vgg16.VGG16(\n",
        "    weights=\"imagenet\",\n",
        "    include_top=False,\n",
        "    input_shape=(180, 180, 3))"
      ],
      "execution_count": 31,
      "outputs": [
        {
          "output_type": "stream",
          "name": "stdout",
          "text": [
            "Downloading data from https://storage.googleapis.com/tensorflow/keras-applications/vgg16/vgg16_weights_tf_dim_ordering_tf_kernels_notop.h5\n",
            "58892288/58889256 [==============================] - 1s 0us/step\n",
            "58900480/58889256 [==============================] - 1s 0us/step\n"
          ]
        }
      ]
    },
    {
      "cell_type": "code",
      "metadata": {
        "id": "pE4zRVz7LJgG",
        "colab": {
          "base_uri": "https://localhost:8080/"
        },
        "outputId": "b3893bdd-d442-4209-c3ec-7ae5f3da99d4"
      },
      "source": [
        "conv_base.summary()"
      ],
      "execution_count": 32,
      "outputs": [
        {
          "output_type": "stream",
          "name": "stdout",
          "text": [
            "Model: \"vgg16\"\n",
            "_________________________________________________________________\n",
            " Layer (type)                Output Shape              Param #   \n",
            "=================================================================\n",
            " input_4 (InputLayer)        [(None, 180, 180, 3)]     0         \n",
            "                                                                 \n",
            " block1_conv1 (Conv2D)       (None, 180, 180, 64)      1792      \n",
            "                                                                 \n",
            " block1_conv2 (Conv2D)       (None, 180, 180, 64)      36928     \n",
            "                                                                 \n",
            " block1_pool (MaxPooling2D)  (None, 90, 90, 64)        0         \n",
            "                                                                 \n",
            " block2_conv1 (Conv2D)       (None, 90, 90, 128)       73856     \n",
            "                                                                 \n",
            " block2_conv2 (Conv2D)       (None, 90, 90, 128)       147584    \n",
            "                                                                 \n",
            " block2_pool (MaxPooling2D)  (None, 45, 45, 128)       0         \n",
            "                                                                 \n",
            " block3_conv1 (Conv2D)       (None, 45, 45, 256)       295168    \n",
            "                                                                 \n",
            " block3_conv2 (Conv2D)       (None, 45, 45, 256)       590080    \n",
            "                                                                 \n",
            " block3_conv3 (Conv2D)       (None, 45, 45, 256)       590080    \n",
            "                                                                 \n",
            " block3_pool (MaxPooling2D)  (None, 22, 22, 256)       0         \n",
            "                                                                 \n",
            " block4_conv1 (Conv2D)       (None, 22, 22, 512)       1180160   \n",
            "                                                                 \n",
            " block4_conv2 (Conv2D)       (None, 22, 22, 512)       2359808   \n",
            "                                                                 \n",
            " block4_conv3 (Conv2D)       (None, 22, 22, 512)       2359808   \n",
            "                                                                 \n",
            " block4_pool (MaxPooling2D)  (None, 11, 11, 512)       0         \n",
            "                                                                 \n",
            " block5_conv1 (Conv2D)       (None, 11, 11, 512)       2359808   \n",
            "                                                                 \n",
            " block5_conv2 (Conv2D)       (None, 11, 11, 512)       2359808   \n",
            "                                                                 \n",
            " block5_conv3 (Conv2D)       (None, 11, 11, 512)       2359808   \n",
            "                                                                 \n",
            " block5_pool (MaxPooling2D)  (None, 5, 5, 512)         0         \n",
            "                                                                 \n",
            "=================================================================\n",
            "Total params: 14,714,688\n",
            "Trainable params: 14,714,688\n",
            "Non-trainable params: 0\n",
            "_________________________________________________________________\n"
          ]
        }
      ]
    },
    {
      "cell_type": "markdown",
      "metadata": {
        "id": "SfdIeb-CLJgG"
      },
      "source": [
        "### Feature extraction without data augmentation using a pretrained model"
      ]
    },
    {
      "cell_type": "markdown",
      "metadata": {
        "id": "IuoRUabiLJgG"
      },
      "source": [
        "**Extracting the VGG16 features and corresponding labels**"
      ]
    },
    {
      "cell_type": "code",
      "metadata": {
        "id": "diN5BO8WLJgG"
      },
      "source": [
        "import numpy as np\n",
        "\n",
        "def get_features_and_labels(dataset):\n",
        "    all_features = []\n",
        "    all_labels = []\n",
        "    for images, labels in dataset:\n",
        "        preprocessed_images = keras.applications.vgg16.preprocess_input(images)\n",
        "        features = conv_base.predict(preprocessed_images)\n",
        "        all_features.append(features)\n",
        "        all_labels.append(labels)\n",
        "    return np.concatenate(all_features), np.concatenate(all_labels)\n",
        "\n",
        "train_features, train_labels =  get_features_and_labels(train_dataset)\n",
        "val_features, val_labels =  get_features_and_labels(validation_dataset)\n",
        "test_features, test_labels =  get_features_and_labels(test_dataset)"
      ],
      "execution_count": 33,
      "outputs": []
    },
    {
      "cell_type": "code",
      "metadata": {
        "id": "Sfa_c6LQLJgG",
        "colab": {
          "base_uri": "https://localhost:8080/"
        },
        "outputId": "46bf5d08-8ef9-4540-e1c0-5bc538a28aa6"
      },
      "source": [
        "train_features.shape"
      ],
      "execution_count": 34,
      "outputs": [
        {
          "output_type": "execute_result",
          "data": {
            "text/plain": [
              "(2000, 5, 5, 512)"
            ]
          },
          "metadata": {},
          "execution_count": 34
        }
      ]
    },
    {
      "cell_type": "markdown",
      "metadata": {
        "id": "3hK0qBZZLJgH"
      },
      "source": [
        "**Defining and training the densely connected classifier**"
      ]
    },
    {
      "cell_type": "code",
      "metadata": {
        "id": "taVrYpkcLJgH",
        "colab": {
          "base_uri": "https://localhost:8080/"
        },
        "outputId": "9c6f6419-be61-4cd1-c8ff-3766defc6b46"
      },
      "source": [
        "inputs = keras.Input(shape=(5, 5, 512))\n",
        "x = layers.Flatten()(inputs)\n",
        "x = layers.Dense(256)(x)\n",
        "x = layers.Dropout(0.5)(x)\n",
        "outputs = layers.Dense(1, activation=\"sigmoid\")(x)\n",
        "model = keras.Model(inputs, outputs)\n",
        "model.compile(loss=\"binary_crossentropy\",\n",
        "              optimizer=\"rmsprop\",\n",
        "              metrics=[\"accuracy\"])\n",
        "\n",
        "callbacks = [\n",
        "    keras.callbacks.ModelCheckpoint(\n",
        "      filepath=\"feature_extraction.keras\",\n",
        "      save_best_only=True,\n",
        "      monitor=\"val_loss\")\n",
        "]\n",
        "history = model.fit(\n",
        "    train_features, train_labels,\n",
        "    epochs=20,\n",
        "    validation_data=(val_features, val_labels),\n",
        "    callbacks=callbacks)"
      ],
      "execution_count": 35,
      "outputs": [
        {
          "output_type": "stream",
          "name": "stdout",
          "text": [
            "Epoch 1/20\n",
            "63/63 [==============================] - 3s 19ms/step - loss: 14.3940 - accuracy: 0.9325 - val_loss: 3.0523 - val_accuracy: 0.9750\n",
            "Epoch 2/20\n",
            "63/63 [==============================] - 1s 13ms/step - loss: 4.3834 - accuracy: 0.9740 - val_loss: 3.4845 - val_accuracy: 0.9720\n",
            "Epoch 3/20\n",
            "63/63 [==============================] - 1s 8ms/step - loss: 3.7444 - accuracy: 0.9760 - val_loss: 10.6007 - val_accuracy: 0.9520\n",
            "Epoch 4/20\n",
            "63/63 [==============================] - 1s 9ms/step - loss: 1.0636 - accuracy: 0.9900 - val_loss: 4.9104 - val_accuracy: 0.9750\n",
            "Epoch 5/20\n",
            "63/63 [==============================] - 1s 8ms/step - loss: 1.0734 - accuracy: 0.9910 - val_loss: 4.1645 - val_accuracy: 0.9720\n",
            "Epoch 6/20\n",
            "63/63 [==============================] - 1s 9ms/step - loss: 0.9396 - accuracy: 0.9920 - val_loss: 5.0328 - val_accuracy: 0.9760\n",
            "Epoch 7/20\n",
            "63/63 [==============================] - 1s 8ms/step - loss: 0.2768 - accuracy: 0.9975 - val_loss: 6.3499 - val_accuracy: 0.9720\n",
            "Epoch 8/20\n",
            "63/63 [==============================] - 1s 8ms/step - loss: 0.1918 - accuracy: 0.9980 - val_loss: 7.5324 - val_accuracy: 0.9660\n",
            "Epoch 9/20\n",
            "63/63 [==============================] - 1s 9ms/step - loss: 0.0341 - accuracy: 0.9995 - val_loss: 5.6076 - val_accuracy: 0.9750\n",
            "Epoch 10/20\n",
            "63/63 [==============================] - 1s 8ms/step - loss: 0.4165 - accuracy: 0.9955 - val_loss: 4.8596 - val_accuracy: 0.9760\n",
            "Epoch 11/20\n",
            "63/63 [==============================] - 1s 9ms/step - loss: 0.3161 - accuracy: 0.9980 - val_loss: 6.6116 - val_accuracy: 0.9700\n",
            "Epoch 12/20\n",
            "63/63 [==============================] - 1s 8ms/step - loss: 0.3893 - accuracy: 0.9965 - val_loss: 5.7818 - val_accuracy: 0.9760\n",
            "Epoch 13/20\n",
            "63/63 [==============================] - 1s 8ms/step - loss: 0.2031 - accuracy: 0.9980 - val_loss: 4.8613 - val_accuracy: 0.9790\n",
            "Epoch 14/20\n",
            "63/63 [==============================] - 1s 9ms/step - loss: 0.3097 - accuracy: 0.9985 - val_loss: 4.9182 - val_accuracy: 0.9750\n",
            "Epoch 15/20\n",
            "63/63 [==============================] - 1s 10ms/step - loss: 0.1019 - accuracy: 0.9990 - val_loss: 4.9849 - val_accuracy: 0.9750\n",
            "Epoch 16/20\n",
            "63/63 [==============================] - 1s 10ms/step - loss: 0.1809 - accuracy: 0.9980 - val_loss: 5.5974 - val_accuracy: 0.9750\n",
            "Epoch 17/20\n",
            "63/63 [==============================] - 1s 9ms/step - loss: 0.0864 - accuracy: 0.9990 - val_loss: 5.4561 - val_accuracy: 0.9700\n",
            "Epoch 18/20\n",
            "63/63 [==============================] - 1s 10ms/step - loss: 0.1424 - accuracy: 0.9980 - val_loss: 5.2888 - val_accuracy: 0.9780\n",
            "Epoch 19/20\n",
            "63/63 [==============================] - 1s 9ms/step - loss: 1.0148e-04 - accuracy: 1.0000 - val_loss: 6.0854 - val_accuracy: 0.9790\n",
            "Epoch 20/20\n",
            "63/63 [==============================] - 1s 9ms/step - loss: 0.0724 - accuracy: 0.9985 - val_loss: 5.2079 - val_accuracy: 0.9790\n"
          ]
        }
      ]
    },
    {
      "cell_type": "markdown",
      "metadata": {
        "id": "OIgzvXnHLJgH"
      },
      "source": [
        "**Plotting the results**"
      ]
    },
    {
      "cell_type": "code",
      "metadata": {
        "id": "8_s5AqAjLJgH",
        "colab": {
          "base_uri": "https://localhost:8080/",
          "height": 545
        },
        "outputId": "07399a41-1f49-47ab-c628-05246a704cd5"
      },
      "source": [
        "import matplotlib.pyplot as plt\n",
        "acc = history.history[\"accuracy\"]\n",
        "val_acc = history.history[\"val_accuracy\"]\n",
        "loss = history.history[\"loss\"]\n",
        "val_loss = history.history[\"val_loss\"]\n",
        "epochs = range(1, len(acc) + 1)\n",
        "plt.plot(epochs, acc, \"bo\", label=\"Training accuracy\")\n",
        "plt.plot(epochs, val_acc, \"b\", label=\"Validation accuracy\")\n",
        "plt.title(\"Training and validation accuracy\")\n",
        "plt.legend()\n",
        "plt.figure()\n",
        "plt.plot(epochs, loss, \"bo\", label=\"Training loss\")\n",
        "plt.plot(epochs, val_loss, \"b\", label=\"Validation loss\")\n",
        "plt.title(\"Training and validation loss\")\n",
        "plt.legend()\n",
        "plt.show()"
      ],
      "execution_count": 36,
      "outputs": [
        {
          "output_type": "display_data",
          "data": {
            "text/plain": [
              "<Figure size 432x288 with 1 Axes>"
            ],
            "image/png": "[encoded data removed]"
          },
          "metadata": {
            "needs_background": "light"
          }
        },
        {
          "output_type": "display_data",
          "data": {
            "text/plain": [
              "<Figure size 432x288 with 1 Axes>"
            ],
            "image/png": "[encoded data removed]"
          },
          "metadata": {
            "needs_background": "light"
          }
        }
      ]
    },
    {
      "cell_type": "markdown",
      "metadata": {
        "id": "0XzEsaqmLJgH"
      },
      "source": [
        "### Feature extraction with data augmentation using a pretrained model"
      ]
    },
    {
      "cell_type": "markdown",
      "metadata": {
        "id": "xbNGfHSmLJgH"
      },
      "source": [
        "**Instantiating and freezing the VGG16 convolutional base**"
      ]
    },
    {
      "cell_type": "code",
      "metadata": {
        "id": "4dQb9DQCLJgI"
      },
      "source": [
        "conv_base  = keras.applications.vgg16.VGG16(\n",
        "    weights=\"imagenet\",\n",
        "    include_top=False)\n",
        "conv_base.trainable = False"
      ],
      "execution_count": 37,
      "outputs": []
    },
    {
      "cell_type": "markdown",
      "metadata": {
        "id": "lo4EDoRLLJgI"
      },
      "source": [
        "**Printing the list of trainable weights before and after freezing**"
      ]
    },
    {
      "cell_type": "code",
      "metadata": {
        "id": "uXuWbLaXLJgI",
        "colab": {
          "base_uri": "https://localhost:8080/"
        },
        "outputId": "d9573e09-31cd-4223-b907-d4bd9f9f3247"
      },
      "source": [
        "conv_base.trainable = True\n",
        "print(\"This is the number of trainable weights \"\n",
        "      \"before freezing the conv base:\", len(conv_base.trainable_weights))"
      ],
      "execution_count": 38,
      "outputs": [
        {
          "output_type": "stream",
          "name": "stdout",
          "text": [
            "This is the number of trainable weights before freezing the conv base: 26\n"
          ]
        }
      ]
    },
    {
      "cell_type": "code",
      "metadata": {
        "id": "ymDWZ8j4LJgI",
        "colab": {
          "base_uri": "https://localhost:8080/"
        },
        "outputId": "9f28bdbf-c3be-44b2-f26a-8ce7a08855e5"
      },
      "source": [
        "conv_base.trainable = False\n",
        "print(\"This is the number of trainable weights \"\n",
        "      \"after freezing the conv base:\", len(conv_base.trainable_weights))"
      ],
      "execution_count": 39,
      "outputs": [
        {
          "output_type": "stream",
          "name": "stdout",
          "text": [
            "This is the number of trainable weights after freezing the conv base: 0\n"
          ]
        }
      ]
    },
    {
      "cell_type": "markdown",
      "metadata": {
        "id": "23uNfxn6LJgI"
      },
      "source": [
        "**Adding a data augmentation stage and a classifier to the convolutional base**"
      ]
    },
    {
      "cell_type": "code",
      "metadata": {
        "id": "VNgRDR0hLJgI"
      },
      "source": [
        "data_augmentation = keras.Sequential(\n",
        "    [\n",
        "        layers.RandomFlip(\"horizontal\"),\n",
        "        layers.RandomRotation(0.1),\n",
        "        layers.RandomZoom(0.2),\n",
        "    ]\n",
        ")\n",
        "\n",
        "inputs = keras.Input(shape=(180, 180, 3))\n",
        "x = data_augmentation(inputs)\n",
        "x = keras.applications.vgg16.preprocess_input(x)\n",
        "x = conv_base(x)\n",
        "x = layers.Flatten()(x)\n",
        "x = layers.Dense(256)(x)\n",
        "x = layers.Dropout(0.5)(x)\n",
        "outputs = layers.Dense(1, activation=\"sigmoid\")(x)\n",
        "model = keras.Model(inputs, outputs)\n",
        "model.compile(loss=\"binary_crossentropy\",\n",
        "              optimizer=\"rmsprop\",\n",
        "              metrics=[\"accuracy\"])"
      ],
      "execution_count": 40,
      "outputs": []
    },
    {
      "cell_type": "code",
      "metadata": {
        "id": "rktZ-i64LJgI",
        "colab": {
          "base_uri": "https://localhost:8080/"
        },
        "outputId": "e96c6fbd-5e9b-4e47-cc81-ded7c1123f98"
      },
      "source": [
        "callbacks = [\n",
        "    keras.callbacks.ModelCheckpoint(\n",
        "        filepath=\"feature_extraction_with_data_augmentation.keras\",\n",
        "        save_best_only=True,\n",
        "        monitor=\"val_loss\")\n",
        "]\n",
        "history = model.fit(\n",
        "    train_dataset,\n",
        "    epochs=50,\n",
        "    validation_data=validation_dataset,\n",
        "    callbacks=callbacks)"
      ],
      "execution_count": 41,
      "outputs": [
        {
          "output_type": "stream",
          "name": "stdout",
          "text": [
            "Epoch 1/50\n",
            "63/63 [==============================] - 25s 363ms/step - loss: 14.6875 - accuracy: 0.9010 - val_loss: 3.8363 - val_accuracy: 0.9740\n",
            "Epoch 2/50\n",
            "63/63 [==============================] - 21s 336ms/step - loss: 8.1183 - accuracy: 0.9340 - val_loss: 4.1166 - val_accuracy: 0.9690\n",
            "Epoch 3/50\n",
            "63/63 [==============================] - 22s 343ms/step - loss: 5.3061 - accuracy: 0.9620 - val_loss: 2.7414 - val_accuracy: 0.9770\n",
            "Epoch 4/50\n",
            "63/63 [==============================] - 21s 336ms/step - loss: 4.5464 - accuracy: 0.9570 - val_loss: 3.3849 - val_accuracy: 0.9740\n",
            "Epoch 5/50\n",
            "63/63 [==============================] - 21s 336ms/step - loss: 3.5354 - accuracy: 0.9680 - val_loss: 4.1625 - val_accuracy: 0.9730\n",
            "Epoch 6/50\n",
            "63/63 [==============================] - 21s 335ms/step - loss: 3.7663 - accuracy: 0.9670 - val_loss: 4.6306 - val_accuracy: 0.9720\n",
            "Epoch 7/50\n",
            "63/63 [==============================] - 21s 335ms/step - loss: 2.6937 - accuracy: 0.9720 - val_loss: 4.2707 - val_accuracy: 0.9750\n",
            "Epoch 8/50\n",
            "63/63 [==============================] - 21s 335ms/step - loss: 3.3981 - accuracy: 0.9710 - val_loss: 4.0534 - val_accuracy: 0.9690\n",
            "Epoch 9/50\n",
            "63/63 [==============================] - 22s 340ms/step - loss: 3.0442 - accuracy: 0.9700 - val_loss: 2.3047 - val_accuracy: 0.9850\n",
            "Epoch 10/50\n",
            "63/63 [==============================] - 22s 340ms/step - loss: 3.2689 - accuracy: 0.9730 - val_loss: 1.8077 - val_accuracy: 0.9840\n",
            "Epoch 11/50\n",
            "63/63 [==============================] - 22s 339ms/step - loss: 2.6142 - accuracy: 0.9730 - val_loss: 2.6738 - val_accuracy: 0.9790\n",
            "Epoch 12/50\n",
            "63/63 [==============================] - 21s 335ms/step - loss: 1.9688 - accuracy: 0.9795 - val_loss: 3.1958 - val_accuracy: 0.9810\n",
            "Epoch 13/50\n",
            "63/63 [==============================] - 21s 336ms/step - loss: 2.3180 - accuracy: 0.9750 - val_loss: 3.0020 - val_accuracy: 0.9750\n",
            "Epoch 14/50\n",
            "63/63 [==============================] - 21s 336ms/step - loss: 1.7761 - accuracy: 0.9820 - val_loss: 3.7023 - val_accuracy: 0.9730\n",
            "Epoch 15/50\n",
            "63/63 [==============================] - 21s 337ms/step - loss: 1.6899 - accuracy: 0.9805 - val_loss: 6.2338 - val_accuracy: 0.9650\n",
            "Epoch 16/50\n",
            "63/63 [==============================] - 21s 336ms/step - loss: 2.5032 - accuracy: 0.9740 - val_loss: 2.7993 - val_accuracy: 0.9780\n",
            "Epoch 17/50\n",
            "63/63 [==============================] - 21s 336ms/step - loss: 1.5149 - accuracy: 0.9825 - val_loss: 2.7523 - val_accuracy: 0.9810\n",
            "Epoch 18/50\n",
            "63/63 [==============================] - 21s 336ms/step - loss: 1.1707 - accuracy: 0.9825 - val_loss: 4.3126 - val_accuracy: 0.9700\n",
            "Epoch 19/50\n",
            "63/63 [==============================] - 21s 335ms/step - loss: 1.8429 - accuracy: 0.9770 - val_loss: 3.4182 - val_accuracy: 0.9800\n",
            "Epoch 20/50\n",
            "63/63 [==============================] - 21s 336ms/step - loss: 1.0955 - accuracy: 0.9865 - val_loss: 3.0965 - val_accuracy: 0.9780\n",
            "Epoch 21/50\n",
            "63/63 [==============================] - 21s 336ms/step - loss: 1.6450 - accuracy: 0.9810 - val_loss: 2.5489 - val_accuracy: 0.9820\n",
            "Epoch 22/50\n",
            "63/63 [==============================] - 21s 336ms/step - loss: 1.5155 - accuracy: 0.9795 - val_loss: 3.8732 - val_accuracy: 0.9760\n",
            "Epoch 23/50\n",
            "63/63 [==============================] - 21s 336ms/step - loss: 1.2167 - accuracy: 0.9805 - val_loss: 2.4014 - val_accuracy: 0.9790\n",
            "Epoch 24/50\n",
            "63/63 [==============================] - 21s 336ms/step - loss: 1.2819 - accuracy: 0.9820 - val_loss: 2.9164 - val_accuracy: 0.9780\n",
            "Epoch 25/50\n",
            "63/63 [==============================] - 21s 336ms/step - loss: 0.7169 - accuracy: 0.9885 - val_loss: 2.4384 - val_accuracy: 0.9840\n",
            "Epoch 26/50\n",
            "63/63 [==============================] - 21s 336ms/step - loss: 1.2567 - accuracy: 0.9830 - val_loss: 2.2177 - val_accuracy: 0.9820\n",
            "Epoch 27/50\n",
            "63/63 [==============================] - 21s 336ms/step - loss: 0.7751 - accuracy: 0.9890 - val_loss: 2.4432 - val_accuracy: 0.9810\n",
            "Epoch 28/50\n",
            "63/63 [==============================] - 21s 336ms/step - loss: 0.8292 - accuracy: 0.9865 - val_loss: 2.2839 - val_accuracy: 0.9810\n",
            "Epoch 29/50\n",
            "63/63 [==============================] - 21s 336ms/step - loss: 1.4871 - accuracy: 0.9830 - val_loss: 2.8984 - val_accuracy: 0.9800\n",
            "Epoch 30/50\n",
            "63/63 [==============================] - 21s 336ms/step - loss: 1.0018 - accuracy: 0.9865 - val_loss: 2.8496 - val_accuracy: 0.9790\n",
            "Epoch 31/50\n",
            "63/63 [==============================] - 21s 337ms/step - loss: 0.5720 - accuracy: 0.9875 - val_loss: 2.6584 - val_accuracy: 0.9790\n",
            "Epoch 32/50\n",
            "63/63 [==============================] - 21s 337ms/step - loss: 0.4912 - accuracy: 0.9885 - val_loss: 3.3267 - val_accuracy: 0.9750\n",
            "Epoch 33/50\n",
            "63/63 [==============================] - 21s 336ms/step - loss: 0.6814 - accuracy: 0.9875 - val_loss: 2.6059 - val_accuracy: 0.9770\n",
            "Epoch 34/50\n",
            "63/63 [==============================] - 21s 336ms/step - loss: 0.6154 - accuracy: 0.9890 - val_loss: 3.0921 - val_accuracy: 0.9810\n",
            "Epoch 35/50\n",
            "63/63 [==============================] - 21s 336ms/step - loss: 0.7598 - accuracy: 0.9865 - val_loss: 2.7546 - val_accuracy: 0.9800\n",
            "Epoch 36/50\n",
            "63/63 [==============================] - 21s 336ms/step - loss: 0.8690 - accuracy: 0.9840 - val_loss: 2.9058 - val_accuracy: 0.9780\n",
            "Epoch 37/50\n",
            "63/63 [==============================] - 21s 336ms/step - loss: 0.2765 - accuracy: 0.9895 - val_loss: 2.7401 - val_accuracy: 0.9780\n",
            "Epoch 38/50\n",
            "63/63 [==============================] - 21s 336ms/step - loss: 0.9968 - accuracy: 0.9855 - val_loss: 2.6393 - val_accuracy: 0.9770\n",
            "Epoch 39/50\n",
            "63/63 [==============================] - 21s 335ms/step - loss: 0.4669 - accuracy: 0.9890 - val_loss: 2.2124 - val_accuracy: 0.9800\n",
            "Epoch 40/50\n",
            "63/63 [==============================] - 22s 340ms/step - loss: 0.6798 - accuracy: 0.9860 - val_loss: 1.7778 - val_accuracy: 0.9790\n",
            "Epoch 41/50\n",
            "63/63 [==============================] - 22s 337ms/step - loss: 0.6832 - accuracy: 0.9860 - val_loss: 2.0363 - val_accuracy: 0.9820\n",
            "Epoch 42/50\n",
            "63/63 [==============================] - 21s 336ms/step - loss: 0.4202 - accuracy: 0.9900 - val_loss: 3.6958 - val_accuracy: 0.9740\n",
            "Epoch 43/50\n",
            "63/63 [==============================] - 21s 335ms/step - loss: 0.5388 - accuracy: 0.9900 - val_loss: 2.2714 - val_accuracy: 0.9800\n",
            "Epoch 44/50\n",
            "63/63 [==============================] - 21s 335ms/step - loss: 0.4351 - accuracy: 0.9895 - val_loss: 2.3691 - val_accuracy: 0.9780\n",
            "Epoch 45/50\n",
            "63/63 [==============================] - 21s 336ms/step - loss: 0.6237 - accuracy: 0.9880 - val_loss: 2.7577 - val_accuracy: 0.9740\n",
            "Epoch 46/50\n",
            "63/63 [==============================] - 21s 336ms/step - loss: 0.5068 - accuracy: 0.9905 - val_loss: 2.1432 - val_accuracy: 0.9810\n",
            "Epoch 47/50\n",
            "63/63 [==============================] - 21s 336ms/step - loss: 0.4397 - accuracy: 0.9905 - val_loss: 1.8556 - val_accuracy: 0.9810\n",
            "Epoch 48/50\n",
            "63/63 [==============================] - 21s 335ms/step - loss: 0.5344 - accuracy: 0.9885 - val_loss: 2.4128 - val_accuracy: 0.9760\n",
            "Epoch 49/50\n",
            "63/63 [==============================] - 22s 348ms/step - loss: 0.4214 - accuracy: 0.9885 - val_loss: 1.6409 - val_accuracy: 0.9830\n",
            "Epoch 50/50\n",
            "63/63 [==============================] - 21s 336ms/step - loss: 0.7041 - accuracy: 0.9885 - val_loss: 1.8644 - val_accuracy: 0.9780\n"
          ]
        }
      ]
    },
    {
      "cell_type": "markdown",
      "metadata": {
        "id": "NZeVqDgrLJgJ"
      },
      "source": [
        "**Evaluating the model on the test set**"
      ]
    },
    {
      "cell_type": "code",
      "metadata": {
        "id": "1a7rXKp5LJgJ",
        "colab": {
          "base_uri": "https://localhost:8080/"
        },
        "outputId": "703c964b-5f38-4849-cea9-11150cbadae8"
      },
      "source": [
        "test_model = keras.models.load_model(\n",
        "    \"feature_extraction_with_data_augmentation.keras\")\n",
        "test_loss, test_acc = test_model.evaluate(test_dataset)\n",
        "print(f\"Test accuracy: {test_acc:.3f}\")"
      ],
      "execution_count": 42,
      "outputs": [
        {
          "output_type": "stream",
          "name": "stdout",
          "text": [
            "32/32 [==============================] - 7s 213ms/step - loss: 2.5717 - accuracy: 0.9750\n",
            "Test accuracy: 0.975\n"
          ]
        }
      ]
    },
    {
      "cell_type": "markdown",
      "metadata": {
        "id": "D51I3dJALJgJ"
      },
      "source": [
        "### A pretrained VGG16 model with Fine-tuning \n",
        "\n",
        "#### Fine-tuning consists of unfreezing a few of the top layers of a frozen model base used for feature extraction, and jointly training both the newly added part of the model (in this case, the fully connected classifier) and these top layers. This is called fine-tuning because it slightly adjusts the more abstract representations of the model being reused in order to make them more relevant for the problem at hand."
      ]
    },
    {
      "cell_type": "code",
      "metadata": {
        "id": "N0V2rv5RLJgJ",
        "colab": {
          "base_uri": "https://localhost:8080/"
        },
        "outputId": "ac14f80e-7ff8-4f35-e484-6ad7c1d952be"
      },
      "source": [
        "conv_base.summary()"
      ],
      "execution_count": 43,
      "outputs": [
        {
          "output_type": "stream",
          "name": "stdout",
          "text": [
            "Model: \"vgg16\"\n",
            "_________________________________________________________________\n",
            " Layer (type)                Output Shape              Param #   \n",
            "=================================================================\n",
            " input_6 (InputLayer)        [(None, None, None, 3)]   0         \n",
            "                                                                 \n",
            " block1_conv1 (Conv2D)       (None, None, None, 64)    1792      \n",
            "                                                                 \n",
            " block1_conv2 (Conv2D)       (None, None, None, 64)    36928     \n",
            "                                                                 \n",
            " block1_pool (MaxPooling2D)  (None, None, None, 64)    0         \n",
            "                                                                 \n",
            " block2_conv1 (Conv2D)       (None, None, None, 128)   73856     \n",
            "                                                                 \n",
            " block2_conv2 (Conv2D)       (None, None, None, 128)   147584    \n",
            "                                                                 \n",
            " block2_pool (MaxPooling2D)  (None, None, None, 128)   0         \n",
            "                                                                 \n",
            " block3_conv1 (Conv2D)       (None, None, None, 256)   295168    \n",
            "                                                                 \n",
            " block3_conv2 (Conv2D)       (None, None, None, 256)   590080    \n",
            "                                                                 \n",
            " block3_conv3 (Conv2D)       (None, None, None, 256)   590080    \n",
            "                                                                 \n",
            " block3_pool (MaxPooling2D)  (None, None, None, 256)   0         \n",
            "                                                                 \n",
            " block4_conv1 (Conv2D)       (None, None, None, 512)   1180160   \n",
            "                                                                 \n",
            " block4_conv2 (Conv2D)       (None, None, None, 512)   2359808   \n",
            "                                                                 \n",
            " block4_conv3 (Conv2D)       (None, None, None, 512)   2359808   \n",
            "                                                                 \n",
            " block4_pool (MaxPooling2D)  (None, None, None, 512)   0         \n",
            "                                                                 \n",
            " block5_conv1 (Conv2D)       (None, None, None, 512)   2359808   \n",
            "                                                                 \n",
            " block5_conv2 (Conv2D)       (None, None, None, 512)   2359808   \n",
            "                                                                 \n",
            " block5_conv3 (Conv2D)       (None, None, None, 512)   2359808   \n",
            "                                                                 \n",
            " block5_pool (MaxPooling2D)  (None, None, None, 512)   0         \n",
            "                                                                 \n",
            "=================================================================\n",
            "Total params: 14,714,688\n",
            "Trainable params: 0\n",
            "Non-trainable params: 14,714,688\n",
            "_________________________________________________________________\n"
          ]
        }
      ]
    },
    {
      "cell_type": "markdown",
      "metadata": {
        "id": "cUR7EUYmLJgJ"
      },
      "source": [
        "**Freezing all layers until the fourth from the last**"
      ]
    },
    {
      "cell_type": "code",
      "metadata": {
        "id": "9afcG21WLJgJ"
      },
      "source": [
        "conv_base.trainable = True\n",
        "for layer in conv_base.layers[:-4]:\n",
        "    layer.trainable = False"
      ],
      "execution_count": 44,
      "outputs": []
    },
    {
      "cell_type": "markdown",
      "metadata": {
        "id": "44SPsGOiLJgJ"
      },
      "source": [
        "**Fine-tuning the model**"
      ]
    },
    {
      "cell_type": "code",
      "metadata": {
        "id": "BNfNf5C6LJgJ",
        "colab": {
          "base_uri": "https://localhost:8080/"
        },
        "outputId": "3fdeba2a-f55b-48e7-aadf-8e37cb23f41c"
      },
      "source": [
        "model.compile(loss=\"binary_crossentropy\",\n",
        "              optimizer=keras.optimizers.RMSprop(learning_rate=1e-5),\n",
        "              metrics=[\"accuracy\"])\n",
        "\n",
        "callbacks = [\n",
        "    keras.callbacks.ModelCheckpoint(\n",
        "        filepath=\"fine_tuning.keras\",\n",
        "        save_best_only=True,\n",
        "        monitor=\"val_loss\")\n",
        "]\n",
        "history = model.fit(\n",
        "    train_dataset,\n",
        "    epochs=30,\n",
        "    validation_data=validation_dataset,\n",
        "    callbacks=callbacks)"
      ],
      "execution_count": 45,
      "outputs": [
        {
          "output_type": "stream",
          "name": "stdout",
          "text": [
            "Epoch 1/30\n",
            "63/63 [==============================] - 25s 372ms/step - loss: 0.6659 - accuracy: 0.9860 - val_loss: 1.7363 - val_accuracy: 0.9830\n",
            "Epoch 2/30\n",
            "63/63 [==============================] - 23s 369ms/step - loss: 0.4491 - accuracy: 0.9855 - val_loss: 1.5180 - val_accuracy: 0.9810\n",
            "Epoch 3/30\n",
            "63/63 [==============================] - 23s 367ms/step - loss: 0.2483 - accuracy: 0.9915 - val_loss: 1.7975 - val_accuracy: 0.9790\n",
            "Epoch 4/30\n",
            "63/63 [==============================] - 23s 363ms/step - loss: 0.2431 - accuracy: 0.9885 - val_loss: 1.9949 - val_accuracy: 0.9760\n",
            "Epoch 5/30\n",
            "63/63 [==============================] - 24s 370ms/step - loss: 0.4183 - accuracy: 0.9895 - val_loss: 1.3940 - val_accuracy: 0.9830\n",
            "Epoch 6/30\n",
            "63/63 [==============================] - 24s 369ms/step - loss: 0.4231 - accuracy: 0.9915 - val_loss: 1.3773 - val_accuracy: 0.9820\n",
            "Epoch 7/30\n",
            "63/63 [==============================] - 23s 365ms/step - loss: 0.1950 - accuracy: 0.9945 - val_loss: 1.4737 - val_accuracy: 0.9820\n",
            "Epoch 8/30\n",
            "63/63 [==============================] - 23s 364ms/step - loss: 0.3074 - accuracy: 0.9905 - val_loss: 1.4964 - val_accuracy: 0.9810\n",
            "Epoch 9/30\n",
            "63/63 [==============================] - 23s 365ms/step - loss: 0.3508 - accuracy: 0.9920 - val_loss: 1.4594 - val_accuracy: 0.9790\n",
            "Epoch 10/30\n",
            "63/63 [==============================] - 23s 365ms/step - loss: 0.2111 - accuracy: 0.9940 - val_loss: 1.5271 - val_accuracy: 0.9770\n",
            "Epoch 11/30\n",
            "63/63 [==============================] - 23s 365ms/step - loss: 0.2319 - accuracy: 0.9930 - val_loss: 1.8215 - val_accuracy: 0.9750\n",
            "Epoch 12/30\n",
            "63/63 [==============================] - 24s 370ms/step - loss: 0.1650 - accuracy: 0.9935 - val_loss: 1.3290 - val_accuracy: 0.9810\n",
            "Epoch 13/30\n",
            "63/63 [==============================] - 23s 364ms/step - loss: 0.1336 - accuracy: 0.9945 - val_loss: 1.7764 - val_accuracy: 0.9770\n",
            "Epoch 14/30\n",
            "63/63 [==============================] - 23s 365ms/step - loss: 0.4387 - accuracy: 0.9915 - val_loss: 1.4724 - val_accuracy: 0.9790\n",
            "Epoch 15/30\n",
            "63/63 [==============================] - 23s 363ms/step - loss: 0.0541 - accuracy: 0.9970 - val_loss: 1.3643 - val_accuracy: 0.9810\n",
            "Epoch 16/30\n",
            "63/63 [==============================] - 23s 364ms/step - loss: 0.1753 - accuracy: 0.9960 - val_loss: 1.5921 - val_accuracy: 0.9770\n",
            "Epoch 17/30\n",
            "63/63 [==============================] - 23s 364ms/step - loss: 0.2087 - accuracy: 0.9930 - val_loss: 1.4630 - val_accuracy: 0.9780\n",
            "Epoch 18/30\n",
            "63/63 [==============================] - 23s 365ms/step - loss: 0.1422 - accuracy: 0.9930 - val_loss: 1.4723 - val_accuracy: 0.9800\n",
            "Epoch 19/30\n",
            "63/63 [==============================] - 23s 363ms/step - loss: 0.1505 - accuracy: 0.9945 - val_loss: 1.7048 - val_accuracy: 0.9790\n",
            "Epoch 20/30\n",
            "63/63 [==============================] - 23s 364ms/step - loss: 0.0397 - accuracy: 0.9970 - val_loss: 1.7093 - val_accuracy: 0.9790\n",
            "Epoch 21/30\n",
            "63/63 [==============================] - 23s 365ms/step - loss: 0.1062 - accuracy: 0.9975 - val_loss: 1.3831 - val_accuracy: 0.9840\n",
            "Epoch 22/30\n",
            "63/63 [==============================] - 23s 370ms/step - loss: 0.2808 - accuracy: 0.9935 - val_loss: 1.3006 - val_accuracy: 0.9800\n",
            "Epoch 23/30\n",
            "63/63 [==============================] - 23s 365ms/step - loss: 0.1079 - accuracy: 0.9975 - val_loss: 1.8724 - val_accuracy: 0.9750\n",
            "Epoch 24/30\n",
            "63/63 [==============================] - 24s 370ms/step - loss: 0.1461 - accuracy: 0.9940 - val_loss: 1.2579 - val_accuracy: 0.9810\n",
            "Epoch 25/30\n",
            "63/63 [==============================] - 23s 366ms/step - loss: 0.0670 - accuracy: 0.9980 - val_loss: 1.4509 - val_accuracy: 0.9790\n",
            "Epoch 26/30\n",
            "63/63 [==============================] - 23s 364ms/step - loss: 0.0694 - accuracy: 0.9975 - val_loss: 1.5412 - val_accuracy: 0.9800\n",
            "Epoch 27/30\n",
            "63/63 [==============================] - 23s 366ms/step - loss: 0.0426 - accuracy: 0.9985 - val_loss: 1.8001 - val_accuracy: 0.9760\n",
            "Epoch 28/30\n",
            "63/63 [==============================] - 23s 364ms/step - loss: 0.0995 - accuracy: 0.9970 - val_loss: 1.3002 - val_accuracy: 0.9810\n",
            "Epoch 29/30\n",
            "63/63 [==============================] - 23s 366ms/step - loss: 0.0570 - accuracy: 0.9965 - val_loss: 1.3634 - val_accuracy: 0.9810\n",
            "Epoch 30/30\n",
            "63/63 [==============================] - 23s 363ms/step - loss: 0.0838 - accuracy: 0.9970 - val_loss: 1.3109 - val_accuracy: 0.9830\n"
          ]
        }
      ]
    },
    {
      "cell_type": "code",
      "metadata": {
        "id": "QTO5M9XHLJgK",
        "colab": {
          "base_uri": "https://localhost:8080/"
        },
        "outputId": "fa85ecb6-5ab5-4005-fbed-81edc8ee046b"
      },
      "source": [
        "model = keras.models.load_model(\"fine_tuning.keras\")\n",
        "test_loss, test_acc = model.evaluate(test_dataset)\n",
        "print(f\"Test accuracy: {test_acc:.3f}\")"
      ],
      "execution_count": 46,
      "outputs": [
        {
          "output_type": "stream",
          "name": "stdout",
          "text": [
            "32/32 [==============================] - 7s 212ms/step - loss: 1.3501 - accuracy: 0.9750\n",
            "Test accuracy: 0.975\n"
          ]
        }
      ]
    },
    {
      "cell_type": "markdown",
      "metadata": {
        "id": "47PdlIiBTRnO"
      },
      "source": [
        "## Summary\n",
        "\n",
        "### Using a Pre-trained model without Augmentation\n",
        "\n",
        "#### We reach a validation accuracy of about 97.70% which is better than what we achieved while training the small model from scratch. This won’t always be the case when you use pretrained features.\n",
        "#### However, the plots also indicate that we’re overfitting almost from the start—despite using dropout with a fairly large rate. That’s because this technique doesn’t use data augmentation, which is essential for preventing overfitting with small image datasets.\n",
        "\n",
        "### Using a Pre-trained model without Augmentation\n",
        "\n",
        "#### A model’s accuracy always depends on the set of samples one evaluates it on! Some sample sets may be more difficult than others, and strong results on one set won’t necessarily fully translate to all other sets. because of this reason, Pretrained model With Augmentation, there was just a minor increase in the accuracy from 97.70% to 98.10%.\n",
        "\n",
        "### Using Pretrained model with fine tuning\n",
        "#### Here, we get a test accuracy of 98.0%\n",
        "\n",
        "### These accuracy results might change within one percentage range of point."
      ]
    }
  ]
}